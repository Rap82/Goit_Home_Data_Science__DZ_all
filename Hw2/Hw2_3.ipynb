{
 "cells": [
  {
   "cell_type": "markdown",
   "metadata": {},
   "source": [
    "#               # Data Science Домашнє завдання модуль 2 \n",
    "                Частина третя: Аналіз датасет c Kaggle.com"
   ]
  },
  {
   "cell_type": "markdown",
   "metadata": {},
   "source": [
    "Імпорт модулів"
   ]
  },
  {
   "cell_type": "code",
   "execution_count": 277,
   "metadata": {},
   "outputs": [],
   "source": [
    "import pandas as pd\n",
    "import numpy as np\n",
    "import matplotlib.pyplot as plt\n",
    "\n"
   ]
  },
  {
   "cell_type": "markdown",
   "metadata": {},
   "source": [
    "Скачуємо запропонований файл для аналізу за посиланням в завданні і переміщаємо в папку з завданням. Імя файлу \"bestsellers with categories.csv\"\n",
    "1.Читаємо csv файл (використовуйте функцію read_csv)"
   ]
  },
  {
   "cell_type": "code",
   "execution_count": 278,
   "metadata": {},
   "outputs": [],
   "source": [
    "df = pd.read_csv('bestsellers with categories.csv')\n"
   ]
  },
  {
   "cell_type": "markdown",
   "metadata": {},
   "source": [
    "2.Виведіть перші п'ять рядків (використовується функція head)"
   ]
  },
  {
   "cell_type": "code",
   "execution_count": 279,
   "metadata": {},
   "outputs": [
    {
     "data": {
      "text/html": [
       "<div>\n",
       "<style scoped>\n",
       "    .dataframe tbody tr th:only-of-type {\n",
       "        vertical-align: middle;\n",
       "    }\n",
       "\n",
       "    .dataframe tbody tr th {\n",
       "        vertical-align: top;\n",
       "    }\n",
       "\n",
       "    .dataframe thead th {\n",
       "        text-align: right;\n",
       "    }\n",
       "</style>\n",
       "<table border=\"1\" class=\"dataframe\">\n",
       "  <thead>\n",
       "    <tr style=\"text-align: right;\">\n",
       "      <th></th>\n",
       "      <th>Name</th>\n",
       "      <th>Author</th>\n",
       "      <th>User Rating</th>\n",
       "      <th>Reviews</th>\n",
       "      <th>Price</th>\n",
       "      <th>Year</th>\n",
       "      <th>Genre</th>\n",
       "    </tr>\n",
       "  </thead>\n",
       "  <tbody>\n",
       "    <tr>\n",
       "      <th>0</th>\n",
       "      <td>10-Day Green Smoothie Cleanse</td>\n",
       "      <td>JJ Smith</td>\n",
       "      <td>4.7</td>\n",
       "      <td>17350</td>\n",
       "      <td>8</td>\n",
       "      <td>2016</td>\n",
       "      <td>Non Fiction</td>\n",
       "    </tr>\n",
       "    <tr>\n",
       "      <th>1</th>\n",
       "      <td>11/22/63: A Novel</td>\n",
       "      <td>Stephen King</td>\n",
       "      <td>4.6</td>\n",
       "      <td>2052</td>\n",
       "      <td>22</td>\n",
       "      <td>2011</td>\n",
       "      <td>Fiction</td>\n",
       "    </tr>\n",
       "    <tr>\n",
       "      <th>2</th>\n",
       "      <td>12 Rules for Life: An Antidote to Chaos</td>\n",
       "      <td>Jordan B. Peterson</td>\n",
       "      <td>4.7</td>\n",
       "      <td>18979</td>\n",
       "      <td>15</td>\n",
       "      <td>2018</td>\n",
       "      <td>Non Fiction</td>\n",
       "    </tr>\n",
       "    <tr>\n",
       "      <th>3</th>\n",
       "      <td>1984 (Signet Classics)</td>\n",
       "      <td>George Orwell</td>\n",
       "      <td>4.7</td>\n",
       "      <td>21424</td>\n",
       "      <td>6</td>\n",
       "      <td>2017</td>\n",
       "      <td>Fiction</td>\n",
       "    </tr>\n",
       "    <tr>\n",
       "      <th>4</th>\n",
       "      <td>5,000 Awesome Facts (About Everything!) (Natio...</td>\n",
       "      <td>National Geographic Kids</td>\n",
       "      <td>4.8</td>\n",
       "      <td>7665</td>\n",
       "      <td>12</td>\n",
       "      <td>2019</td>\n",
       "      <td>Non Fiction</td>\n",
       "    </tr>\n",
       "  </tbody>\n",
       "</table>\n",
       "</div>"
      ],
      "text/plain": [
       "                                                Name  \\\n",
       "0                      10-Day Green Smoothie Cleanse   \n",
       "1                                  11/22/63: A Novel   \n",
       "2            12 Rules for Life: An Antidote to Chaos   \n",
       "3                             1984 (Signet Classics)   \n",
       "4  5,000 Awesome Facts (About Everything!) (Natio...   \n",
       "\n",
       "                     Author  User Rating  Reviews  Price  Year        Genre  \n",
       "0                  JJ Smith          4.7    17350      8  2016  Non Fiction  \n",
       "1              Stephen King          4.6     2052     22  2011      Fiction  \n",
       "2        Jordan B. Peterson          4.7    18979     15  2018  Non Fiction  \n",
       "3             George Orwell          4.7    21424      6  2017      Fiction  \n",
       "4  National Geographic Kids          4.8     7665     12  2019  Non Fiction  "
      ]
     },
     "execution_count": 279,
     "metadata": {},
     "output_type": "execute_result"
    }
   ],
   "source": [
    "df.head()\n"
   ]
  },
  {
   "cell_type": "markdown",
   "metadata": {},
   "source": [
    "3.Виведіть розміри датасету (використовуйте атрибут shape)\n"
   ]
  },
  {
   "cell_type": "code",
   "execution_count": 280,
   "metadata": {},
   "outputs": [
    {
     "name": "stdout",
     "output_type": "stream",
     "text": [
      "Кількість рядків:  550\n",
      "Кількість стовбців:  7\n"
     ]
    }
   ],
   "source": [
    "rows, columns = df.shape\n",
    "print(\"Кількість рядків: \", rows)\n",
    "print(\"Кількість стовбців: \", columns)"
   ]
  },
  {
   "cell_type": "markdown",
   "metadata": {},
   "source": [
    "Тестовий приклад : Про скільки книг зберігає дані датасет?"
   ]
  },
  {
   "cell_type": "code",
   "execution_count": 281,
   "metadata": {},
   "outputs": [
    {
     "name": "stdout",
     "output_type": "stream",
     "text": [
      "Відповідь : 550\n"
     ]
    }
   ],
   "source": [
    "print(f\"Відповідь : {df.shape[0]}\") # В нашому випадку кількість книг відповідає кількості рядків."
   ]
  },
  {
   "cell_type": "markdown",
   "metadata": {},
   "source": [
    "# Приведення назв стовпців в нашій копії таблиці df* до потрібного нам вигляду (всі назви з маленькими буквами і якщо назва містить пробіл замінюємо на _*)"
   ]
  },
  {
   "cell_type": "code",
   "execution_count": 282,
   "metadata": {},
   "outputs": [],
   "source": [
    "df.columns = ['name', 'author', 'user_rating', 'reviews', 'price', 'year', 'genre']"
   ]
  },
  {
   "cell_type": "markdown",
   "metadata": {},
   "source": [
    "# Первинне дослідження даних"
   ]
  },
  {
   "cell_type": "markdown",
   "metadata": {},
   "source": [
    "1.Перевірте, чи у всіх рядків вистачає даних: виведіть кількість пропусків (na) у кожному зі стовпців (використовуйте функції isna та sum)"
   ]
  },
  {
   "cell_type": "code",
   "execution_count": 283,
   "metadata": {},
   "outputs": [
    {
     "name": "stdout",
     "output_type": "stream",
     "text": [
      "name           0\n",
      "author         0\n",
      "user_rating    0\n",
      "reviews        0\n",
      "price          0\n",
      "year           0\n",
      "genre          0\n",
      "dtype: int64\n",
      "================================================================================\n",
      "Чи є в якихось змінних пропуски? (Так / ні)\n",
      "Відповідь:  Ні, нема пропусків\n"
     ]
    }
   ],
   "source": [
    "missing_values = df.isna().sum()\n",
    "# Виводимо результат\n",
    "print(missing_values)\n",
    "# Перевіряємо, чи є пропуски у всіх стовпцях\n",
    "has_missing_values = df.isna().any().any()  # Перевіряємо, чи є хоча б один пропуск (повертає True якщо є хочаб один пропуск) , (повертає False якщо не має) \n",
    "print(80*\"=\")\n",
    "print(\"Чи є в якихось змінних пропуски? (Так / ні)\")\n",
    "# Виводимо відповідь\n",
    "print('Відповідь: ', ['Ні, нема пропусків', 'Так, є пропуски'][int(has_missing_values)]) # int(bool*)- Повертає 1 якщо True і 0 якщо False/\n",
    "                                                                                         # В залежності від результату [int(has_missing_values)] - виведе перше чи друге значення (тобто з індексом 0 чи 1 запропонованого списку.)"
   ]
  },
  {
   "cell_type": "markdown",
   "metadata": {},
   "source": [
    "2.Перевірте, які є унікальні значення в колонці genre (використовуйте функцію unique)"
   ]
  },
  {
   "cell_type": "code",
   "execution_count": 284,
   "metadata": {},
   "outputs": [
    {
     "name": "stdout",
     "output_type": "stream",
     "text": [
      "Які є унікальні жанри??\n",
      "\n",
      "Відповідь : Унікальні значення : ['Non Fiction' 'Fiction']\n"
     ]
    }
   ],
   "source": [
    "# Отримуємо унікальні значення в колонці 'genre'\n",
    "unique_genres = df['genre'].unique()\n",
    "print(\"Які є унікальні жанри??\\n\")\n",
    "\n",
    "# Виводимо результат\n",
    "if len(unique_genres) == 0:\n",
    "        print('Відповідь : Унікальних значеннь в колонці genre: не має')\n",
    "else:\n",
    "        print('Відповідь : Унікальні значення :', unique_genres)\n",
    "\n"
   ]
  },
  {
   "cell_type": "markdown",
   "metadata": {},
   "source": [
    "3.Тепер подивіться на розподіл цін: побудуйте діаграму (використовуйте kind='hist')"
   ]
  },
  {
   "cell_type": "code",
   "execution_count": 285,
   "metadata": {},
   "outputs": [
    {
     "data": {
      "image/png": "[encoded data removed]",
      "text/plain": [
       "<Figure size 600x400 with 1 Axes>"
      ]
     },
     "metadata": {},
     "output_type": "display_data"
    }
   ],
   "source": [
    "plt.figure(figsize=(6, 4))\n",
    "plt.hist(df['price'], bins=10, color='b')\n",
    "plt.xlabel('Price')\n",
    "plt.ylabel('Amount')\n",
    "plt.title('Distribution of Prices')\n",
    "plt.grid()\n",
    "plt.show()"
   ]
  },
  {
   "cell_type": "markdown",
   "metadata": {},
   "source": [
    "4.Визначте, яка ціна у нас максимальна, мінімальна, середня, медіанна (використовуйте функції max, min, mean, median)"
   ]
  },
  {
   "cell_type": "code",
   "execution_count": 286,
   "metadata": {},
   "outputs": [
    {
     "data": {
      "text/plain": [
       "0       8\n",
       "1      22\n",
       "2      15\n",
       "3       6\n",
       "4      12\n",
       "       ..\n",
       "545     8\n",
       "546     8\n",
       "547     8\n",
       "548     8\n",
       "549     8\n",
       "Name: price, Length: 550, dtype: int64"
      ]
     },
     "execution_count": 286,
     "metadata": {},
     "output_type": "execute_result"
    }
   ],
   "source": [
    "df.price"
   ]
  },
  {
   "cell_type": "code",
   "execution_count": 287,
   "metadata": {},
   "outputs": [
    {
     "name": "stdout",
     "output_type": "stream",
     "text": [
      "Відповідь :\n",
      "    Max Ціна :  105\n",
      "    Min Ціна:  0\n",
      "    Mean Ціна:  13.1\n",
      "    Median Ціна:  11.0\n"
     ]
    }
   ],
   "source": [
    "print(\"Відповідь :\")\n",
    "print(f\"    Max Ціна : \", _.max())\n",
    "print(f\"    Min Ціна: \",  _.min())\n",
    "print(f\"    Mean Ціна: \",  _.mean())\n",
    "print(f\"    Median Ціна: \",  _.median())"
   ]
  },
  {
   "cell_type": "markdown",
   "metadata": {},
   "source": [
    "# Пошук та сортування даних"
   ]
  },
  {
   "cell_type": "markdown",
   "metadata": {},
   "source": [
    "1.Який рейтинг у датасеті найвищий?"
   ]
  },
  {
   "cell_type": "code",
   "execution_count": 288,
   "metadata": {},
   "outputs": [
    {
     "name": "stdout",
     "output_type": "stream",
     "text": [
      "Який рейтинг у датасеті найвищий?\n",
      "Відповідь : 4.9\n"
     ]
    }
   ],
   "source": [
    "print (\"Який рейтинг у датасеті найвищий?\")\n",
    "user_rating_max = df.user_rating.max()\n",
    "print(\"Відповідь :\",user_rating_max) "
   ]
  },
  {
   "cell_type": "markdown",
   "metadata": {},
   "source": [
    "2.Скільки книг мають такий рейтинг?"
   ]
  },
  {
   "cell_type": "code",
   "execution_count": 289,
   "metadata": {},
   "outputs": [
    {
     "name": "stdout",
     "output_type": "stream",
     "text": [
      "Скільки книг мають такий рейтинг?\n",
      "Відповідь : 52\n"
     ]
    }
   ],
   "source": [
    "print(\"Скільки книг мають такий рейтинг?\")\n",
    "sum = len(df[df['user_rating'] == 4.9])\n",
    "print(\"Відповідь :\",sum) "
   ]
  },
  {
   "cell_type": "markdown",
   "metadata": {},
   "source": [
    "3.Яка книга має найбільше відгуків?"
   ]
  },
  {
   "cell_type": "markdown",
   "metadata": {},
   "source": [
    "Опис коду нижче:  \n",
    "df['reviews'].max(): Цей вираз знаходить максимальне значення в колонці reviews.  \n",
    "df['reviews'] == df['reviews'].max(): Створює булевий масив, де True вказує на те, що значення в колонці reviews дорівнює максимальному значенню.   \n",
    "df.loc[...]: Використовується для вибору рядків DataFrame, де умова є True."
   ]
  },
  {
   "cell_type": "code",
   "execution_count": 290,
   "metadata": {},
   "outputs": [
    {
     "name": "stdout",
     "output_type": "stream",
     "text": [
      "Відповідь: Where the Crawdads Sing\n"
     ]
    }
   ],
   "source": [
    "# Вибираємо рядки з максимальними значеннями в колонці 'reviews'\n",
    "\n",
    "max_reviews = df.loc[df['reviews'] == df['reviews'].max()]\n",
    "# Витягуємо назви книг\n",
    "book_titles = max_reviews['name']\n",
    "book_title=book_titles.tolist() # З обєкта  book_titles* формуємо список з іменами книг.\n",
    "                                # Внашому випадку список буде містити 1 імя, його і виводимо в відповді\n",
    "\n",
    "# Виводимо назви книг\n",
    "print('Відповідь:', book_title[0])"
   ]
  },
  {
   "cell_type": "markdown",
   "metadata": {},
   "source": [
    "4.  З тих книг, що потрапили до Топ-50 у 2015 році, яка книга найдорожча (можна використати проміжний датафрейм)?\n"
   ]
  },
  {
   "cell_type": "markdown",
   "metadata": {},
   "source": [
    "Опис коди нижче :  \n",
    "\n",
    "df['year'] == 2015: Фільтрує DataFrame, щоб залишити тільки книги, видані в 2015 році.  \n",
    ".sort_values(by='user_rating', ascending=False): Сортує результати за рейтингом користувачів у спадаючому порядку.  \n",
    ".head(50): Вибирає перші 50 книг з відсортованого списку.  \n",
    "\n",
    "top['price'].max(): Знаходить максимальну ціну в підмножині top.   \n",
    "top.loc[...]: Вибирає рядки, де ціна дорівнює максимальному значенню."
   ]
  },
  {
   "cell_type": "code",
   "execution_count": 291,
   "metadata": {},
   "outputs": [
    {
     "name": "stdout",
     "output_type": "stream",
     "text": [
      "Відповідь :  Publication Manual of the American Psychological Association, 6th Edition\n"
     ]
    }
   ],
   "source": [
    "top = df[df['year'] == 2015].sort_values(by='user_rating', ascending=False).head(50)\n",
    "\n",
    "top_prices =top.loc[top['price'] == top['price'].max()]\n",
    "top_price=top_prices[\"name\"]\n",
    "top_price_book_2015=top_price.tolist()\n",
    "print(\"Відповідь : \", top_price_book_2015[0])\n"
   ]
  },
  {
   "cell_type": "markdown",
   "metadata": {},
   "source": [
    "5.Скільки книг жанру Fiction потрапили до Топ-50 у 2010 році (використовуйте &)?"
   ]
  },
  {
   "cell_type": "markdown",
   "metadata": {},
   "source": [
    "Опис коду нижче:   \n",
    "df[(df['genre'] == 'Fiction') & (df['year'] == 2010)] Вибірка з масиву df* За Жанром(поле 'genre') і(&) Роком('year')  \n",
    ".sort_values(by='user_rating', ascending=False): Сортує результати за рейтингом користувачів у спадаючому порядку.  \n",
    ".head(50): Вибирає перші 50 книг з відсортованого списку.   \n",
    "fiction - новий масив з відсортованими за критеріями рядками.   \n",
    "fiction.shape[0] Виводить кількість рядків в масиві fiction*.Що в нашому випадку відповідає кількості книг.\n"
   ]
  },
  {
   "cell_type": "code",
   "execution_count": 292,
   "metadata": {},
   "outputs": [
    {
     "name": "stdout",
     "output_type": "stream",
     "text": [
      "Відповідь :  20\n"
     ]
    }
   ],
   "source": [
    "fiction = df[(df['genre'] == 'Fiction') & (df['year'] == 2010)].sort_values(by='user_rating', ascending=False).head(50)\n",
    "print (\"Відповідь : \",fiction.shape[0])"
   ]
  },
  {
   "cell_type": "markdown",
   "metadata": {},
   "source": [
    "6.Скільки книг з рейтингом 4.9 потрапило до рейтингу у 2010 та 2011 роках (використовуйте | або функцію isin)? "
   ]
  },
  {
   "cell_type": "markdown",
   "metadata": {},
   "source": [
    "Опис коду нижче:   \n",
    "df['year'].isin([2010, 2011]): Перевіряє, чи рік книги є 2010 або 2011. те саме що (df['year']== (2010 | 2011))  \n",
    "df['user_rating'] == 4.9: Перевіряє, чи рейтинг користувачів дорівнює 4.9.  \n",
    "&: Використовується для логічного \"І\", щоб об'єднати обидві умови.  \n",
    "len(...): Підраховує кількість рядків, що відповідають обом умовам.  \n",
    "Таким чином, book міститиме кількість книг, що відповідають заданим критеріям."
   ]
  },
  {
   "cell_type": "code",
   "execution_count": 293,
   "metadata": {},
   "outputs": [
    {
     "name": "stdout",
     "output_type": "stream",
     "text": [
      "Відповідь :  1\n",
      "Відповідь :  1\n"
     ]
    }
   ],
   "source": [
    "book = len(df[df['year'].isin([2010, 2011]) & (df['user_rating'] == 4.9)])\n",
    "print(\"Відповідь : \", book)\n",
    "book = len(df[(df['year']== (2010 | 2011)) & (df['user_rating'] == 4.9)])\n",
    "print(\"Відповідь : \", book)"
   ]
  },
  {
   "cell_type": "markdown",
   "metadata": {},
   "source": [
    "7.І насамкінець, давайте відсортуємо за зростанням ціни всі книги, які потрапили до рейтингу в 2015 році і коштують дешевше за 8 доларів (використовуйте функцію sort_values).  \n",
    "Яка книга остання у відсортованому списку? "
   ]
  },
  {
   "cell_type": "code",
   "execution_count": 294,
   "metadata": {},
   "outputs": [
    {
     "name": "stdout",
     "output_type": "stream",
     "text": [
      "Відповідь :  Old School (Diary of a Wimpy Kid #10)\n"
     ]
    }
   ],
   "source": [
    "books_2015 = df[(df['price'] < 8) & (df['year'] == 2015)].sort_values(by='price',ascending=True) # books_2015 * - масив в якому містяться рядки які відповідають умові завдання.\n",
    "last_book_by_sorted = books_2015.iloc[-1]['name'] # last_book_by_sorted* - імя книжки останьої в відсортованому масиві books_2015*\n",
    "print (\"Відповідь : \", last_book_by_sorted)"
   ]
  },
  {
   "cell_type": "markdown",
   "metadata": {},
   "source": [
    "# Агрегування даних та з'єднання таблиць"
   ]
  },
  {
   "cell_type": "markdown",
   "metadata": {},
   "source": [
    "1.Для початку давайте подивимося на максимальну та мінімальну ціни для кожного з жанрів (використовуйте функції groupby та agg, для підрахунку мінімальних та максимальних значень використовуйте max та min). Не беріть усі стовпці, виберіть тільки потрібні вам   \n",
    "Відповідь: Максимальна ціна для жанру Fiction: Відповідь  \n",
    "Відповідь: Мінімальна ціна для жанру Fiction: Відповідь  \n",
    "Відповідь: Максимальна ціна для жанру Non Fiction: Відповідь  \n",
    "Відповідь: Мінімальна ціна для жанру Non Fiction: Відповідь  "
   ]
  },
  {
   "cell_type": "code",
   "execution_count": 295,
   "metadata": {},
   "outputs": [
    {
     "name": "stdout",
     "output_type": "stream",
     "text": [
      "         genre  min  max\n",
      "0      Fiction    0   82\n",
      "1  Non Fiction    0  105\n",
      "Відповідь Максимальна ціна для жанру Fiction: 82\n",
      "Відповідь Максимальна ціна для жанру Fiction: 0\n",
      "Відповідь Максимальна ціна для жанру Non Fiction: 105\n",
      "Відповідь Максимальна ціна для жанру Non Fiction: 0\n"
     ]
    }
   ],
   "source": [
    "# Групуємо за жанром та обчислюємо мінімальну і максимальну ціну\n",
    "price_stats = df.groupby('genre')['price'].agg(['min', 'max']).reset_index()\n",
    "print(price_stats)\n",
    "max_fiction_price = price_stats.loc[price_stats['genre'] == 'Fiction', 'max'].values[0] # Вибирає з відсортованого масиву price_stats* - потрібні Значення \n",
    "                                                                                #  Жанр(['genre']) 'Fiction' , максимальна ціна 'max', отримуємо значення методом .values[0]*\n",
    "min_fiction_price = price_stats.loc[price_stats['genre'] == 'Fiction', 'min'].values[0] # Аналогічно до попереднього тільки мінімальну ціну 'min'\n",
    "print('Відповідь Максимальна ціна для жанру Fiction:', max_fiction_price)\n",
    "print('Відповідь Максимальна ціна для жанру Fiction:', min_fiction_price)\n",
    "max_non_fiction_price = price_stats.loc[price_stats['genre'] == 'Non Fiction', 'max'].values[0]\n",
    "min_non_fiction_price = price_stats.loc[price_stats['genre'] == 'Non Fiction', 'min'].values[0]\n",
    "print('Відповідь Максимальна ціна для жанру Non Fiction:', max_non_fiction_price)\n",
    "print('Відповідь Максимальна ціна для жанру Non Fiction:', min_non_fiction_price)"
   ]
  },
  {
   "cell_type": "markdown",
   "metadata": {},
   "source": [
    "2.Тепер створіть новий датафрейм, який вміщатиме кількість книг для кожного з авторів (використовуйте функції groupby та agg, для підрахунку кількості використовуйте count).  \n",
    " Не беріть усі стовпці, виберете тільки потрібні"
   ]
  },
  {
   "cell_type": "markdown",
   "metadata": {},
   "source": [
    "Опис коду нижче:  \n",
    "Групування за автором:  books = df.groupby('author')['name'].count().reset_index()  \n",
    "df.groupby('author'): Групує дані за колонкою author.  \n",
    "['name'].count(): Підраховує кількість книг (значень у колонці name) для кожного автора.  \n",
    ".reset_index(): Скидає індекс, щоб отримати звичайний DataFrame.  \n",
    "\n",
    "Перейменування колонок: books.columns = ['author', 'amount']  \n",
    "Змінює назви колонок на author та amount, де amount - це кількість книг."
   ]
  },
  {
   "cell_type": "code",
   "execution_count": 296,
   "metadata": {},
   "outputs": [
    {
     "data": {
      "text/html": [
       "<div>\n",
       "<style scoped>\n",
       "    .dataframe tbody tr th:only-of-type {\n",
       "        vertical-align: middle;\n",
       "    }\n",
       "\n",
       "    .dataframe tbody tr th {\n",
       "        vertical-align: top;\n",
       "    }\n",
       "\n",
       "    .dataframe thead th {\n",
       "        text-align: right;\n",
       "    }\n",
       "</style>\n",
       "<table border=\"1\" class=\"dataframe\">\n",
       "  <thead>\n",
       "    <tr style=\"text-align: right;\">\n",
       "      <th></th>\n",
       "      <th>author</th>\n",
       "      <th>amount</th>\n",
       "    </tr>\n",
       "  </thead>\n",
       "  <tbody>\n",
       "    <tr>\n",
       "      <th>0</th>\n",
       "      <td>Abraham Verghese</td>\n",
       "      <td>2</td>\n",
       "    </tr>\n",
       "    <tr>\n",
       "      <th>1</th>\n",
       "      <td>Adam Gasiewski</td>\n",
       "      <td>1</td>\n",
       "    </tr>\n",
       "    <tr>\n",
       "      <th>2</th>\n",
       "      <td>Adam Mansbach</td>\n",
       "      <td>1</td>\n",
       "    </tr>\n",
       "    <tr>\n",
       "      <th>3</th>\n",
       "      <td>Adir Levy</td>\n",
       "      <td>1</td>\n",
       "    </tr>\n",
       "    <tr>\n",
       "      <th>4</th>\n",
       "      <td>Admiral William H. McRaven</td>\n",
       "      <td>1</td>\n",
       "    </tr>\n",
       "    <tr>\n",
       "      <th>...</th>\n",
       "      <td>...</td>\n",
       "      <td>...</td>\n",
       "    </tr>\n",
       "    <tr>\n",
       "      <th>243</th>\n",
       "      <td>Walter Isaacson</td>\n",
       "      <td>3</td>\n",
       "    </tr>\n",
       "    <tr>\n",
       "      <th>244</th>\n",
       "      <td>William Davis</td>\n",
       "      <td>2</td>\n",
       "    </tr>\n",
       "    <tr>\n",
       "      <th>245</th>\n",
       "      <td>William P. Young</td>\n",
       "      <td>2</td>\n",
       "    </tr>\n",
       "    <tr>\n",
       "      <th>246</th>\n",
       "      <td>Wizards RPG Team</td>\n",
       "      <td>3</td>\n",
       "    </tr>\n",
       "    <tr>\n",
       "      <th>247</th>\n",
       "      <td>Zhi Gang Sha</td>\n",
       "      <td>2</td>\n",
       "    </tr>\n",
       "  </tbody>\n",
       "</table>\n",
       "<p>248 rows × 2 columns</p>\n",
       "</div>"
      ],
      "text/plain": [
       "                         author  amount\n",
       "0              Abraham Verghese       2\n",
       "1                Adam Gasiewski       1\n",
       "2                 Adam Mansbach       1\n",
       "3                     Adir Levy       1\n",
       "4    Admiral William H. McRaven       1\n",
       "..                          ...     ...\n",
       "243             Walter Isaacson       3\n",
       "244               William Davis       2\n",
       "245            William P. Young       2\n",
       "246            Wizards RPG Team       3\n",
       "247                Zhi Gang Sha       2\n",
       "\n",
       "[248 rows x 2 columns]"
      ]
     },
     "execution_count": 296,
     "metadata": {},
     "output_type": "execute_result"
    }
   ],
   "source": [
    "books = df.groupby('author')['name'].count().reset_index() # Групування за автором\n",
    "books.columns = ['author', 'amount'] # Перейменування колонок:\n",
    "books"
   ]
  },
  {
   "cell_type": "markdown",
   "metadata": {},
   "source": [
    "2.1 Якої розмірності вийшла таблиця?"
   ]
  },
  {
   "cell_type": "code",
   "execution_count": 297,
   "metadata": {},
   "outputs": [
    {
     "name": "stdout",
     "output_type": "stream",
     "text": [
      " Якої розмірності вийшла таблиця?\n",
      "\n",
      "Кількість рядків:  248\n",
      "Кількість стовбців:  2\n"
     ]
    }
   ],
   "source": [
    "print(\" Якої розмірності вийшла таблиця?\")\n",
    "rows, columns = books.shape\n",
    "print()\n",
    "print(\"Кількість рядків: \", rows)\n",
    "print(\"Кількість стовбців: \", columns)"
   ]
  },
  {
   "cell_type": "markdown",
   "metadata": {},
   "source": [
    "2.2 Який автор має найбільше книг? "
   ]
  },
  {
   "cell_type": "code",
   "execution_count": 298,
   "metadata": {},
   "outputs": [
    {
     "name": "stdout",
     "output_type": "stream",
     "text": [
      "Відповідь :  Jeff Kinney\n"
     ]
    }
   ],
   "source": [
    "autro_max_books=books.loc[books['amount'] == books['amount'].max()] # формуємо масив який буде містити рядок з авторм в якого найбільше книг з попередньо відсортованого масиву books*\n",
    "print (\"Відповідь : \", autro_max_books[\"author\"].values[0]) # метод .values[0]* - повертає значення заданого параметру. В нашому випадку імя автора який має найбільше книг."
   ]
  },
  {
   "cell_type": "markdown",
   "metadata": {},
   "source": [
    "2.3 Скільки книг цього автора?"
   ]
  },
  {
   "cell_type": "code",
   "execution_count": 299,
   "metadata": {},
   "outputs": [
    {
     "name": "stdout",
     "output_type": "stream",
     "text": [
      "Відповідь :  12\n"
     ]
    }
   ],
   "source": [
    "autro_max_books=books.loc[books['amount'] == books['amount'].max()] # формуємо масив який буде містити рядок з авторм в якого найбільше книг з попередньо відсортованого масиву books*\n",
    "print (\"Відповідь : \", autro_max_books[\"amount\"].values[0])# метод .values[0]* - повертає значення заданого параметру. В нашому випадку кількість книг написаних цим автором ."
   ]
  },
  {
   "cell_type": "markdown",
   "metadata": {},
   "source": [
    "3.Тепер створіть другий датафрейм, який буде вміщати середній рейтинг для кожного автора (використовуйте функції groupby та agg, для підрахунку середнього значення використовуйте mean). Не беріть усі стовпці, виберете тільки потрібні"
   ]
  },
  {
   "cell_type": "code",
   "execution_count": 300,
   "metadata": {},
   "outputs": [
    {
     "data": {
      "text/html": [
       "<div>\n",
       "<style scoped>\n",
       "    .dataframe tbody tr th:only-of-type {\n",
       "        vertical-align: middle;\n",
       "    }\n",
       "\n",
       "    .dataframe tbody tr th {\n",
       "        vertical-align: top;\n",
       "    }\n",
       "\n",
       "    .dataframe thead th {\n",
       "        text-align: right;\n",
       "    }\n",
       "</style>\n",
       "<table border=\"1\" class=\"dataframe\">\n",
       "  <thead>\n",
       "    <tr style=\"text-align: right;\">\n",
       "      <th></th>\n",
       "      <th>author</th>\n",
       "      <th>mean_rating</th>\n",
       "    </tr>\n",
       "  </thead>\n",
       "  <tbody>\n",
       "    <tr>\n",
       "      <th>0</th>\n",
       "      <td>Abraham Verghese</td>\n",
       "      <td>4.60</td>\n",
       "    </tr>\n",
       "    <tr>\n",
       "      <th>1</th>\n",
       "      <td>Adam Gasiewski</td>\n",
       "      <td>4.40</td>\n",
       "    </tr>\n",
       "    <tr>\n",
       "      <th>2</th>\n",
       "      <td>Adam Mansbach</td>\n",
       "      <td>4.80</td>\n",
       "    </tr>\n",
       "    <tr>\n",
       "      <th>3</th>\n",
       "      <td>Adir Levy</td>\n",
       "      <td>4.80</td>\n",
       "    </tr>\n",
       "    <tr>\n",
       "      <th>4</th>\n",
       "      <td>Admiral William H. McRaven</td>\n",
       "      <td>4.70</td>\n",
       "    </tr>\n",
       "    <tr>\n",
       "      <th>...</th>\n",
       "      <td>...</td>\n",
       "      <td>...</td>\n",
       "    </tr>\n",
       "    <tr>\n",
       "      <th>243</th>\n",
       "      <td>Walter Isaacson</td>\n",
       "      <td>4.57</td>\n",
       "    </tr>\n",
       "    <tr>\n",
       "      <th>244</th>\n",
       "      <td>William Davis</td>\n",
       "      <td>4.40</td>\n",
       "    </tr>\n",
       "    <tr>\n",
       "      <th>245</th>\n",
       "      <td>William P. Young</td>\n",
       "      <td>4.60</td>\n",
       "    </tr>\n",
       "    <tr>\n",
       "      <th>246</th>\n",
       "      <td>Wizards RPG Team</td>\n",
       "      <td>4.80</td>\n",
       "    </tr>\n",
       "    <tr>\n",
       "      <th>247</th>\n",
       "      <td>Zhi Gang Sha</td>\n",
       "      <td>4.60</td>\n",
       "    </tr>\n",
       "  </tbody>\n",
       "</table>\n",
       "<p>248 rows × 2 columns</p>\n",
       "</div>"
      ],
      "text/plain": [
       "                         author  mean_rating\n",
       "0              Abraham Verghese         4.60\n",
       "1                Adam Gasiewski         4.40\n",
       "2                 Adam Mansbach         4.80\n",
       "3                     Adir Levy         4.80\n",
       "4    Admiral William H. McRaven         4.70\n",
       "..                          ...          ...\n",
       "243             Walter Isaacson         4.57\n",
       "244               William Davis         4.40\n",
       "245            William P. Young         4.60\n",
       "246            Wizards RPG Team         4.80\n",
       "247                Zhi Gang Sha         4.60\n",
       "\n",
       "[248 rows x 2 columns]"
      ]
     },
     "execution_count": 300,
     "metadata": {},
     "output_type": "execute_result"
    }
   ],
   "source": [
    "rating = df.groupby('author')['user_rating'].agg('mean').round(2).reset_index() # Створюємо масив в якому буде імя автора і середне значення рейтенгу йог окниг з заокругленням до сотих\n",
    "rating.columns = ['author', 'mean_rating']\n",
    "rating"
   ]
  },
  {
   "cell_type": "markdown",
   "metadata": {},
   "source": [
    "3.1 У якого автора середній рейтинг мінімальний?"
   ]
  },
  {
   "cell_type": "code",
   "execution_count": 301,
   "metadata": {},
   "outputs": [
    {
     "name": "stdout",
     "output_type": "stream",
     "text": [
      "Відповідь : Donna Tartt\n"
     ]
    }
   ],
   "source": [
    "author_min_rating =rating.loc[rating['mean_rating'] == rating['mean_rating'].min()] # в відсортованому вище масив rating* Шукаємо автора з найнижчим середнім рейтенгом.\n",
    "                                                                    # author_min_rating - містить імя автора колонка('author') і його середній рейтинг колонка ('mean_rating')\n",
    "\n",
    "print(\"Відповідь :\", author_min_rating['author'].values[0]) # Виводими імя автора в якого найнижчий середній рейтинг"
   ]
  },
  {
   "cell_type": "markdown",
   "metadata": {},
   "source": [
    "3.2 Який у цього автора середній рейтинг? "
   ]
  },
  {
   "cell_type": "code",
   "execution_count": 302,
   "metadata": {},
   "outputs": [
    {
     "name": "stdout",
     "output_type": "stream",
     "text": [
      "Відповідь : 3.9\n"
     ]
    }
   ],
   "source": [
    "print(\"Відповідь :\", author_min_rating['mean_rating'].values[0])# # Виводими  середній рейтинг цього автора."
   ]
  },
  {
   "cell_type": "markdown",
   "metadata": {},
   "source": [
    "4.З'єднайте останні два датафрейми так, щоб для кожного автора було видно кількість книг та середній рейтинг (Використовуйте функцію concat з параметром axis=1).  \n",
    " Збережіть результат у змінну  \n",
    "Відсортуйте датафрейм за зростаючою кількістю книг та зростаючим рейтингом (використовуйте функцію sort_values)"
   ]
  },
  {
   "cell_type": "markdown",
   "metadata": {},
   "source": [
    "Опис коду нижче :  \n",
    "pd.concat([books, rating['mean_rating'].round(2)], axis=1) - метод обєднює два масиви які мають однакову кількість рядків . Якщо різну видає помилку.  \n",
    " В нашому випадку ми обєднюємо масив books* і колонку 'mean_rating' з масиву rating* за стовпцями axis=1*   \n",
    "Параметр axis=1 у функції pd.concat() вказує на те, що ви хочете об'єднати об'єкти по стовцях. Це означає, що нові стовпці будуть додані до існуючих, а не нові рядки.  \n",
    "Параметр axis=0 у функції pd.concat() вказує на об'єднання об'єктів по рядках. Це означає, що нові рядки будуть додані до існуючих, а не нові стовпці.  \n",
    "Ще один приклад обєднання :   \n",
    "Якщо два масива мають аднаковий сповпець то їх можна обєднати методом pd.merge() \n",
    "\n",
    "new_table = pd.merge(books, rating[['author', 'mean_rating']], on='author', how='left')"
   ]
  },
  {
   "cell_type": "code",
   "execution_count": 303,
   "metadata": {},
   "outputs": [
    {
     "data": {
      "text/html": [
       "<div>\n",
       "<style scoped>\n",
       "    .dataframe tbody tr th:only-of-type {\n",
       "        vertical-align: middle;\n",
       "    }\n",
       "\n",
       "    .dataframe tbody tr th {\n",
       "        vertical-align: top;\n",
       "    }\n",
       "\n",
       "    .dataframe thead th {\n",
       "        text-align: right;\n",
       "    }\n",
       "</style>\n",
       "<table border=\"1\" class=\"dataframe\">\n",
       "  <thead>\n",
       "    <tr style=\"text-align: right;\">\n",
       "      <th></th>\n",
       "      <th>author</th>\n",
       "      <th>amount</th>\n",
       "      <th>mean_rating</th>\n",
       "    </tr>\n",
       "  </thead>\n",
       "  <tbody>\n",
       "    <tr>\n",
       "      <th>0</th>\n",
       "      <td>Abraham Verghese</td>\n",
       "      <td>2</td>\n",
       "      <td>4.60</td>\n",
       "    </tr>\n",
       "    <tr>\n",
       "      <th>1</th>\n",
       "      <td>Adam Gasiewski</td>\n",
       "      <td>1</td>\n",
       "      <td>4.40</td>\n",
       "    </tr>\n",
       "    <tr>\n",
       "      <th>2</th>\n",
       "      <td>Adam Mansbach</td>\n",
       "      <td>1</td>\n",
       "      <td>4.80</td>\n",
       "    </tr>\n",
       "    <tr>\n",
       "      <th>3</th>\n",
       "      <td>Adir Levy</td>\n",
       "      <td>1</td>\n",
       "      <td>4.80</td>\n",
       "    </tr>\n",
       "    <tr>\n",
       "      <th>4</th>\n",
       "      <td>Admiral William H. McRaven</td>\n",
       "      <td>1</td>\n",
       "      <td>4.70</td>\n",
       "    </tr>\n",
       "    <tr>\n",
       "      <th>...</th>\n",
       "      <td>...</td>\n",
       "      <td>...</td>\n",
       "      <td>...</td>\n",
       "    </tr>\n",
       "    <tr>\n",
       "      <th>243</th>\n",
       "      <td>Walter Isaacson</td>\n",
       "      <td>3</td>\n",
       "      <td>4.57</td>\n",
       "    </tr>\n",
       "    <tr>\n",
       "      <th>244</th>\n",
       "      <td>William Davis</td>\n",
       "      <td>2</td>\n",
       "      <td>4.40</td>\n",
       "    </tr>\n",
       "    <tr>\n",
       "      <th>245</th>\n",
       "      <td>William P. Young</td>\n",
       "      <td>2</td>\n",
       "      <td>4.60</td>\n",
       "    </tr>\n",
       "    <tr>\n",
       "      <th>246</th>\n",
       "      <td>Wizards RPG Team</td>\n",
       "      <td>3</td>\n",
       "      <td>4.80</td>\n",
       "    </tr>\n",
       "    <tr>\n",
       "      <th>247</th>\n",
       "      <td>Zhi Gang Sha</td>\n",
       "      <td>2</td>\n",
       "      <td>4.60</td>\n",
       "    </tr>\n",
       "  </tbody>\n",
       "</table>\n",
       "<p>248 rows × 3 columns</p>\n",
       "</div>"
      ],
      "text/plain": [
       "                         author  amount  mean_rating\n",
       "0              Abraham Verghese       2         4.60\n",
       "1                Adam Gasiewski       1         4.40\n",
       "2                 Adam Mansbach       1         4.80\n",
       "3                     Adir Levy       1         4.80\n",
       "4    Admiral William H. McRaven       1         4.70\n",
       "..                          ...     ...          ...\n",
       "243             Walter Isaacson       3         4.57\n",
       "244               William Davis       2         4.40\n",
       "245            William P. Young       2         4.60\n",
       "246            Wizards RPG Team       3         4.80\n",
       "247                Zhi Gang Sha       2         4.60\n",
       "\n",
       "[248 rows x 3 columns]"
      ]
     },
     "execution_count": 303,
     "metadata": {},
     "output_type": "execute_result"
    }
   ],
   "source": [
    "new_table = pd.concat([books, rating['mean_rating'].round(2)], axis=1) # Перший метод \n",
    "new_table = pd.merge(books, rating[['author', 'mean_rating']], on='author', how='left') # Другий метод\n",
    "new_table"
   ]
  },
  {
   "cell_type": "markdown",
   "metadata": {},
   "source": [
    "4.1Відсортуйте датафрейм за зростаючою кількістю книг та зростаючим рейтингом (використовуйте функцію sort_values)"
   ]
  },
  {
   "cell_type": "code",
   "execution_count": 304,
   "metadata": {},
   "outputs": [
    {
     "data": {
      "text/html": [
       "<div>\n",
       "<style scoped>\n",
       "    .dataframe tbody tr th:only-of-type {\n",
       "        vertical-align: middle;\n",
       "    }\n",
       "\n",
       "    .dataframe tbody tr th {\n",
       "        vertical-align: top;\n",
       "    }\n",
       "\n",
       "    .dataframe thead th {\n",
       "        text-align: right;\n",
       "    }\n",
       "</style>\n",
       "<table border=\"1\" class=\"dataframe\">\n",
       "  <thead>\n",
       "    <tr style=\"text-align: right;\">\n",
       "      <th></th>\n",
       "      <th>author</th>\n",
       "      <th>amount</th>\n",
       "      <th>mean_rating</th>\n",
       "    </tr>\n",
       "  </thead>\n",
       "  <tbody>\n",
       "    <tr>\n",
       "      <th>171</th>\n",
       "      <td>Muriel Barbery</td>\n",
       "      <td>1</td>\n",
       "      <td>4.00</td>\n",
       "    </tr>\n",
       "    <tr>\n",
       "      <th>43</th>\n",
       "      <td>Chris Cleave</td>\n",
       "      <td>1</td>\n",
       "      <td>4.10</td>\n",
       "    </tr>\n",
       "    <tr>\n",
       "      <th>109</th>\n",
       "      <td>Ian K. Smith M.D.</td>\n",
       "      <td>1</td>\n",
       "      <td>4.10</td>\n",
       "    </tr>\n",
       "    <tr>\n",
       "      <th>186</th>\n",
       "      <td>Pierre Dukan</td>\n",
       "      <td>1</td>\n",
       "      <td>4.10</td>\n",
       "    </tr>\n",
       "    <tr>\n",
       "      <th>81</th>\n",
       "      <td>Elizabeth Strout</td>\n",
       "      <td>1</td>\n",
       "      <td>4.20</td>\n",
       "    </tr>\n",
       "    <tr>\n",
       "      <th>...</th>\n",
       "      <td>...</td>\n",
       "      <td>...</td>\n",
       "      <td>...</td>\n",
       "    </tr>\n",
       "    <tr>\n",
       "      <th>11</th>\n",
       "      <td>American Psychological Association</td>\n",
       "      <td>10</td>\n",
       "      <td>4.50</td>\n",
       "    </tr>\n",
       "    <tr>\n",
       "      <th>226</th>\n",
       "      <td>Suzanne Collins</td>\n",
       "      <td>11</td>\n",
       "      <td>4.66</td>\n",
       "    </tr>\n",
       "    <tr>\n",
       "      <th>92</th>\n",
       "      <td>Gary Chapman</td>\n",
       "      <td>11</td>\n",
       "      <td>4.74</td>\n",
       "    </tr>\n",
       "    <tr>\n",
       "      <th>197</th>\n",
       "      <td>Rick Riordan</td>\n",
       "      <td>11</td>\n",
       "      <td>4.77</td>\n",
       "    </tr>\n",
       "    <tr>\n",
       "      <th>120</th>\n",
       "      <td>Jeff Kinney</td>\n",
       "      <td>12</td>\n",
       "      <td>4.80</td>\n",
       "    </tr>\n",
       "  </tbody>\n",
       "</table>\n",
       "<p>248 rows × 3 columns</p>\n",
       "</div>"
      ],
      "text/plain": [
       "                                 author  amount  mean_rating\n",
       "171                      Muriel Barbery       1         4.00\n",
       "43                         Chris Cleave       1         4.10\n",
       "109                   Ian K. Smith M.D.       1         4.10\n",
       "186                        Pierre Dukan       1         4.10\n",
       "81                     Elizabeth Strout       1         4.20\n",
       "..                                  ...     ...          ...\n",
       "11   American Psychological Association      10         4.50\n",
       "226                     Suzanne Collins      11         4.66\n",
       "92                         Gary Chapman      11         4.74\n",
       "197                        Rick Riordan      11         4.77\n",
       "120                         Jeff Kinney      12         4.80\n",
       "\n",
       "[248 rows x 3 columns]"
      ]
     },
     "execution_count": 304,
     "metadata": {},
     "output_type": "execute_result"
    }
   ],
   "source": [
    "new_table.sort_values(by=['amount', 'mean_rating'])"
   ]
  },
  {
   "cell_type": "markdown",
   "metadata": {},
   "source": [
    "4.2Який автор перший у списку?"
   ]
  },
  {
   "cell_type": "code",
   "execution_count": 305,
   "metadata": {},
   "outputs": [
    {
     "name": "stdout",
     "output_type": "stream",
     "text": [
      "Відповідь :  Muriel Barbery\n"
     ]
    }
   ],
   "source": [
    "first_author=new_table.sort_values(by=['amount', 'mean_rating']).iloc[0]['author'] \n",
    "print(\"Відповідь : \",first_author)"
   ]
  },
  {
   "cell_type": "markdown",
   "metadata": {},
   "source": [
    "#  Візуалізація даних"
   ]
  },
  {
   "cell_type": "markdown",
   "metadata": {},
   "source": [
    "1.1 Рейтинг користувачів vs. ціна за книгу"
   ]
  },
  {
   "cell_type": "code",
   "execution_count": 306,
   "metadata": {},
   "outputs": [
    {
     "data": {
      "image/png": "[encoded data removed]",
      "text/plain": [
       "<Figure size 600x400 with 1 Axes>"
      ]
     },
     "metadata": {},
     "output_type": "display_data"
    }
   ],
   "source": [
    "plt.figure(figsize=(6, 4))\n",
    "plt.scatter(df['user_rating'], df['price'], color='salmon', alpha=0.7)\n",
    "plt.title('Рейтинг від користувачів і вартість книги')\n",
    "plt.xlabel('Рейтинг користувачів')\n",
    "plt.ylabel('Ціна')\n",
    "plt.grid(True, linestyle='--', alpha=0.5)"
   ]
  },
  {
   "cell_type": "markdown",
   "metadata": {},
   "source": [
    "1.2 Середня ціна книг за роками"
   ]
  },
  {
   "cell_type": "code",
   "execution_count": 307,
   "metadata": {},
   "outputs": [
    {
     "data": {
      "image/png": "[encoded data removed]",
      "text/plain": [
       "<Figure size 1000x600 with 1 Axes>"
      ]
     },
     "metadata": {},
     "output_type": "display_data"
    }
   ],
   "source": [
    "# Групуємо дані за роками та обчислюємо середню ціну\n",
    "yearly_avg_price = df.groupby('year').price.mean()\n",
    "yearly_avg_price_genre = df.groupby(['year', 'genre'])['price'].mean().unstack()\n",
    "\n",
    "# Побудуємо графік\n",
    "plt.figure(figsize=(10, 6))\n",
    "yearly_avg_price.plot(kind='line', label='За жанрами')\n",
    "yearly_avg_price_genre['Fiction'].plot(kind='line', label='Для жанру \"Fiction\" ')\n",
    "yearly_avg_price_genre['Non Fiction'].plot(kind='line', label='Для жанру \"Non Fiction\" ')\n",
    "plt.title('Середня ціна книг за роками')\n",
    "plt.xlabel('Рік')\n",
    "plt.ylabel('Середня ціна за книгу')\n",
    "plt.grid(True, linestyle='--', alpha=0.5)\n",
    "\n",
    "plt.xticks(yearly_avg_price.index[::1]) \n",
    "plt.legend()\n",
    "plt.show()"
   ]
  },
  {
   "cell_type": "markdown",
   "metadata": {},
   "source": [
    "1.3 Гістограма розподілу середніх рейтингів за роками та жанрами"
   ]
  },
  {
   "cell_type": "code",
   "execution_count": 308,
   "metadata": {},
   "outputs": [
    {
     "data": {
      "image/png": "[encoded data removed]",
      "text/plain": [
       "<Figure size 640x480 with 1 Axes>"
      ]
     },
     "metadata": {},
     "output_type": "display_data"
    }
   ],
   "source": [
    "df.groupby(['year','genre']).user_rating.mean().unstack().plot(kind='hist', alpha=0.5, bins=80)\n",
    "\n",
    "plt.title('Гістограма розподілу середніх рейтингів за роками та жанрами')\n",
    "plt.show()"
   ]
  }
 ],
 "metadata": {
  "kernelspec": {
   "display_name": "Python 3",
   "language": "python",
   "name": "python3"
  },
  "language_info": {
   "codemirror_mode": {
    "name": "ipython",
    "version": 3
   },
   "file_extension": ".py",
   "mimetype": "text/x-python",
   "name": "python",
   "nbconvert_exporter": "python",
   "pygments_lexer": "ipython3",
   "version": "3.12.0"
  }
 },
 "nbformat": 4,
 "nbformat_minor": 2
}

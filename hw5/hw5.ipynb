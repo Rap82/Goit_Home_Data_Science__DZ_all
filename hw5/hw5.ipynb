{
 "cells": [
  {
   "cell_type": "markdown",
   "metadata": {},
   "source": [
    "# Домашнє завданя 5"
   ]
  },
  {
   "cell_type": "code",
   "execution_count": 59,
   "metadata": {},
   "outputs": [],
   "source": [
    "import pandas as pd\n",
    "import numpy as np\n",
    "import seaborn as sns\n",
    "import matplotlib.pyplot as plt\n",
    "from sklearn.model_selection import train_test_split\n",
    "from sklearn.svm import SVC\n",
    "from sklearn.preprocessing import StandardScaler\n",
    "from sklearn.ensemble import RandomForestClassifier\n",
    "from sklearn.metrics import confusion_matrix\n",
    "from sklearn.metrics import accuracy_score\n",
    "from sklearn.metrics import classification_report, accuracy_score"
   ]
  },
  {
   "cell_type": "markdown",
   "metadata": {},
   "source": [
    "# Збір даних"
   ]
  },
  {
   "cell_type": "markdown",
   "metadata": {},
   "source": [
    "Потрібно зібрати дані з акселерометра мобільного телефону. Для того ми сопочатку розархівуємо файл homework.zip з дани для анаізу і зберем їх в датасет- data*."
   ]
  },
  {
   "cell_type": "code",
   "execution_count": 60,
   "metadata": {},
   "outputs": [
    {
     "data": {
      "text/html": [
       "<div>\n",
       "<style scoped>\n",
       "    .dataframe tbody tr th:only-of-type {\n",
       "        vertical-align: middle;\n",
       "    }\n",
       "\n",
       "    .dataframe tbody tr th {\n",
       "        vertical-align: top;\n",
       "    }\n",
       "\n",
       "    .dataframe thead th {\n",
       "        text-align: right;\n",
       "    }\n",
       "</style>\n",
       "<table border=\"1\" class=\"dataframe\">\n",
       "  <thead>\n",
       "    <tr style=\"text-align: right;\">\n",
       "      <th></th>\n",
       "      <th>accelerometer_X</th>\n",
       "      <th>accelerometer_Y</th>\n",
       "      <th>accelerometer_Z</th>\n",
       "      <th>activity</th>\n",
       "    </tr>\n",
       "  </thead>\n",
       "  <tbody>\n",
       "    <tr>\n",
       "      <th>0</th>\n",
       "      <td>1.000776</td>\n",
       "      <td>4.616021</td>\n",
       "      <td>8.576031</td>\n",
       "      <td>idle</td>\n",
       "    </tr>\n",
       "    <tr>\n",
       "      <th>1</th>\n",
       "      <td>0.718261</td>\n",
       "      <td>4.209007</td>\n",
       "      <td>8.446744</td>\n",
       "      <td>idle</td>\n",
       "    </tr>\n",
       "    <tr>\n",
       "      <th>2</th>\n",
       "      <td>-0.909797</td>\n",
       "      <td>-0.282516</td>\n",
       "      <td>9.203311</td>\n",
       "      <td>idle</td>\n",
       "    </tr>\n",
       "    <tr>\n",
       "      <th>3</th>\n",
       "      <td>5.099650</td>\n",
       "      <td>0.148441</td>\n",
       "      <td>8.418014</td>\n",
       "      <td>idle</td>\n",
       "    </tr>\n",
       "    <tr>\n",
       "      <th>4</th>\n",
       "      <td>1.762132</td>\n",
       "      <td>-0.162806</td>\n",
       "      <td>9.251195</td>\n",
       "      <td>idle</td>\n",
       "    </tr>\n",
       "    <tr>\n",
       "      <th>...</th>\n",
       "      <td>...</td>\n",
       "      <td>...</td>\n",
       "      <td>...</td>\n",
       "      <td>...</td>\n",
       "    </tr>\n",
       "    <tr>\n",
       "      <th>193855</th>\n",
       "      <td>5.109226</td>\n",
       "      <td>-15.452178</td>\n",
       "      <td>-1.470040</td>\n",
       "      <td>walking</td>\n",
       "    </tr>\n",
       "    <tr>\n",
       "      <th>193856</th>\n",
       "      <td>6.373365</td>\n",
       "      <td>-11.741165</td>\n",
       "      <td>-8.226476</td>\n",
       "      <td>walking</td>\n",
       "    </tr>\n",
       "    <tr>\n",
       "      <th>193857</th>\n",
       "      <td>3.289633</td>\n",
       "      <td>-9.993398</td>\n",
       "      <td>-0.383072</td>\n",
       "      <td>walking</td>\n",
       "    </tr>\n",
       "    <tr>\n",
       "      <th>193858</th>\n",
       "      <td>-2.978387</td>\n",
       "      <td>-3.050213</td>\n",
       "      <td>1.273715</td>\n",
       "      <td>walking</td>\n",
       "    </tr>\n",
       "    <tr>\n",
       "      <th>193859</th>\n",
       "      <td>-4.347870</td>\n",
       "      <td>-9.926360</td>\n",
       "      <td>-1.642422</td>\n",
       "      <td>walking</td>\n",
       "    </tr>\n",
       "  </tbody>\n",
       "</table>\n",
       "<p>193860 rows × 4 columns</p>\n",
       "</div>"
      ],
      "text/plain": [
       "        accelerometer_X  accelerometer_Y  accelerometer_Z activity\n",
       "0              1.000776         4.616021         8.576031     idle\n",
       "1              0.718261         4.209007         8.446744     idle\n",
       "2             -0.909797        -0.282516         9.203311     idle\n",
       "3              5.099650         0.148441         8.418014     idle\n",
       "4              1.762132        -0.162806         9.251195     idle\n",
       "...                 ...              ...              ...      ...\n",
       "193855         5.109226       -15.452178        -1.470040  walking\n",
       "193856         6.373365       -11.741165        -8.226476  walking\n",
       "193857         3.289633        -9.993398        -0.383072  walking\n",
       "193858        -2.978387        -3.050213         1.273715  walking\n",
       "193859        -4.347870        -9.926360        -1.642422  walking\n",
       "\n",
       "[193860 rows x 4 columns]"
      ]
     },
     "execution_count": 60,
     "metadata": {},
     "output_type": "execute_result"
    }
   ],
   "source": [
    "from pathlib import Path\n",
    "activities = ['idle', 'running', 'stairs', 'walking']\n",
    "data_collections = []\n",
    "\n",
    "for index, activity in enumerate(activities, start=1):\n",
    "    activity_path = Path('data') / activity  \n",
    "    csv_files = list(activity_path.glob('*.csv'))  \n",
    "    df = pd.concat((pd.read_csv(file) for file in csv_files), ignore_index=True)\n",
    "    df['activity'] = activity\n",
    "    data_collections.append(df)\n",
    "\n",
    "data = pd.concat(data_collections, ignore_index=True)\n",
    "data"
   ]
  },
  {
   "cell_type": "markdown",
   "metadata": {},
   "source": [
    "# Нормалізуємо вихіді дані "
   ]
  },
  {
   "cell_type": "markdown",
   "metadata": {},
   "source": [
    "Тренування на ненормаліованих даних займає чимало часу. Вхідні дані нормалізуються так, щоб їхнє середнє значення дорівнювало нулю, а стандартне відхилення - одиниці."
   ]
  },
  {
   "cell_type": "markdown",
   "metadata": {},
   "source": [
    "В якості характеристик візьмемо показники з акселерометра"
   ]
  },
  {
   "cell_type": "code",
   "execution_count": 61,
   "metadata": {},
   "outputs": [],
   "source": [
    "features = ['accelerometer_X', 'accelerometer_Y', 'accelerometer_Z']"
   ]
  },
  {
   "cell_type": "code",
   "execution_count": 62,
   "metadata": {},
   "outputs": [
    {
     "data": {
      "text/html": [
       "<div>\n",
       "<style scoped>\n",
       "    .dataframe tbody tr th:only-of-type {\n",
       "        vertical-align: middle;\n",
       "    }\n",
       "\n",
       "    .dataframe tbody tr th {\n",
       "        vertical-align: top;\n",
       "    }\n",
       "\n",
       "    .dataframe thead th {\n",
       "        text-align: right;\n",
       "    }\n",
       "</style>\n",
       "<table border=\"1\" class=\"dataframe\">\n",
       "  <thead>\n",
       "    <tr style=\"text-align: right;\">\n",
       "      <th></th>\n",
       "      <th>accelerometer_X</th>\n",
       "      <th>accelerometer_Y</th>\n",
       "      <th>accelerometer_Z</th>\n",
       "      <th>activity</th>\n",
       "    </tr>\n",
       "  </thead>\n",
       "  <tbody>\n",
       "    <tr>\n",
       "      <th>0</th>\n",
       "      <td>-0.109791</td>\n",
       "      <td>0.241917</td>\n",
       "      <td>0.941538</td>\n",
       "      <td>idle</td>\n",
       "    </tr>\n",
       "    <tr>\n",
       "      <th>1</th>\n",
       "      <td>-0.143404</td>\n",
       "      <td>0.209288</td>\n",
       "      <td>0.923560</td>\n",
       "      <td>idle</td>\n",
       "    </tr>\n",
       "    <tr>\n",
       "      <th>2</th>\n",
       "      <td>-0.337109</td>\n",
       "      <td>-0.150782</td>\n",
       "      <td>1.028762</td>\n",
       "      <td>idle</td>\n",
       "    </tr>\n",
       "    <tr>\n",
       "      <th>3</th>\n",
       "      <td>0.377889</td>\n",
       "      <td>-0.116234</td>\n",
       "      <td>0.919565</td>\n",
       "      <td>idle</td>\n",
       "    </tr>\n",
       "    <tr>\n",
       "      <th>4</th>\n",
       "      <td>-0.019205</td>\n",
       "      <td>-0.141185</td>\n",
       "      <td>1.035420</td>\n",
       "      <td>idle</td>\n",
       "    </tr>\n",
       "    <tr>\n",
       "      <th>...</th>\n",
       "      <td>...</td>\n",
       "      <td>...</td>\n",
       "      <td>...</td>\n",
       "      <td>...</td>\n",
       "    </tr>\n",
       "    <tr>\n",
       "      <th>193855</th>\n",
       "      <td>0.379029</td>\n",
       "      <td>-1.366884</td>\n",
       "      <td>-0.455385</td>\n",
       "      <td>walking</td>\n",
       "    </tr>\n",
       "    <tr>\n",
       "      <th>193856</th>\n",
       "      <td>0.529435</td>\n",
       "      <td>-1.069384</td>\n",
       "      <td>-1.394879</td>\n",
       "      <td>walking</td>\n",
       "    </tr>\n",
       "    <tr>\n",
       "      <th>193857</th>\n",
       "      <td>0.162535</td>\n",
       "      <td>-0.929271</td>\n",
       "      <td>-0.304241</td>\n",
       "      <td>walking</td>\n",
       "    </tr>\n",
       "    <tr>\n",
       "      <th>193858</th>\n",
       "      <td>-0.583227</td>\n",
       "      <td>-0.372659</td>\n",
       "      <td>-0.073862</td>\n",
       "      <td>walking</td>\n",
       "    </tr>\n",
       "    <tr>\n",
       "      <th>193859</th>\n",
       "      <td>-0.746167</td>\n",
       "      <td>-0.923897</td>\n",
       "      <td>-0.479355</td>\n",
       "      <td>walking</td>\n",
       "    </tr>\n",
       "  </tbody>\n",
       "</table>\n",
       "<p>193860 rows × 4 columns</p>\n",
       "</div>"
      ],
      "text/plain": [
       "        accelerometer_X  accelerometer_Y  accelerometer_Z activity\n",
       "0             -0.109791         0.241917         0.941538     idle\n",
       "1             -0.143404         0.209288         0.923560     idle\n",
       "2             -0.337109        -0.150782         1.028762     idle\n",
       "3              0.377889        -0.116234         0.919565     idle\n",
       "4             -0.019205        -0.141185         1.035420     idle\n",
       "...                 ...              ...              ...      ...\n",
       "193855         0.379029        -1.366884        -0.455385  walking\n",
       "193856         0.529435        -1.069384        -1.394879  walking\n",
       "193857         0.162535        -0.929271        -0.304241  walking\n",
       "193858        -0.583227        -0.372659        -0.073862  walking\n",
       "193859        -0.746167        -0.923897        -0.479355  walking\n",
       "\n",
       "[193860 rows x 4 columns]"
      ]
     },
     "execution_count": 62,
     "metadata": {},
     "output_type": "execute_result"
    }
   ],
   "source": [
    "scaler = StandardScaler()\n",
    "\n",
    "data_to_normalize = data[features]\n",
    "\n",
    "# Нормалізація даних\n",
    "normalized_data = scaler.fit_transform(data_to_normalize)\n",
    "\n",
    "# Заміна вихідних даних нормалізованими даними\n",
    "ndata = data.copy()\n",
    "ndata[features] = normalized_data\n",
    "ndata"
   ]
  },
  {
   "cell_type": "markdown",
   "metadata": {},
   "source": [
    "# Розділяємо дані на навчальний і тестовий набори"
   ]
  },
  {
   "cell_type": "code",
   "execution_count": 63,
   "metadata": {},
   "outputs": [],
   "source": [
    "X_train, X_test, y_train, y_test = train_test_split(data[features], data[\"activity\"], test_size=0.3, stratify=ndata[\"activity\"], random_state=42)"
   ]
  },
  {
   "cell_type": "markdown",
   "metadata": {},
   "source": [
    "# Виконаємо навчання нашої моделі  за допомогою алгоритму SVM"
   ]
  },
  {
   "cell_type": "code",
   "execution_count": 64,
   "metadata": {},
   "outputs": [
    {
     "name": "stdout",
     "output_type": "stream",
     "text": [
      "Час, витрачений  на навчання моделі SVM: 693.4818 секунд\n"
     ]
    }
   ],
   "source": [
    "import time\n",
    "\n",
    "model_svm = SVC() # Створеня моделі на основі алготму SVM\n",
    "start_time = time.time()\n",
    "model_svm.fit(X_train, y_train) # Навчання моделі.\n",
    "end_time = time.time()\n",
    "execution_time_svm = end_time - start_time\n",
    "print(f\"Час, витрачений  на навчання моделі SVM: {(execution_time_svm):.4f} секунд\")"
   ]
  },
  {
   "cell_type": "markdown",
   "metadata": {},
   "source": [
    "# Прогнозування значень для нашої моделі навченої за допомогою алгоритму SVM(На тестових даних)"
   ]
  },
  {
   "cell_type": "code",
   "execution_count": 65,
   "metadata": {},
   "outputs": [
    {
     "name": "stdout",
     "output_type": "stream",
     "text": [
      "Час, витрачений  на навчання моделі SVM (тестові дані): 420.3430 секунд\n"
     ]
    }
   ],
   "source": [
    "start_time = time.time()\n",
    "svm_prediction = model_svm.predict(X_test) # Прогнозування результатів SVM на тестових даних .\n",
    "end_time = time.time()\n",
    "execution_time_svm_prediction = end_time - start_time\n",
    "print(f\"Час, витрачений  на навчання моделі SVM (тестові дані): {(execution_time_svm_prediction):.4f} секунд\")"
   ]
  },
  {
   "cell_type": "markdown",
   "metadata": {},
   "source": [
    "# Виконаємо навчання нашої моделі  за допомогою алгоритму RFC"
   ]
  },
  {
   "cell_type": "code",
   "execution_count": 66,
   "metadata": {},
   "outputs": [
    {
     "name": "stdout",
     "output_type": "stream",
     "text": [
      "Час, витрачений  на навчання моделі RFC: 36.3747 секунд\n"
     ]
    }
   ],
   "source": [
    "\n",
    "model_rfc = RandomForestClassifier() # Створеня моделі на основі алготму RFC\n",
    "start_time = time.time()\n",
    "model_rfc.fit(X_train, y_train) # Навчання моделі.\n",
    "end_time = time.time()\n",
    "execution_time_rfc = end_time - start_time\n",
    "print(f\"Час, витрачений  на навчання моделі RFC: {(execution_time_rfc):.4f} секунд\")"
   ]
  },
  {
   "cell_type": "markdown",
   "metadata": {},
   "source": [
    "# Прогнозування значень для нашої моделі навченої за допомогою алгоритму RFC(На тестових даних)"
   ]
  },
  {
   "cell_type": "code",
   "execution_count": 67,
   "metadata": {},
   "outputs": [
    {
     "name": "stdout",
     "output_type": "stream",
     "text": [
      "Час, витрачений  на навчання моделі RFC(тестові дані): 1.3850 секунд\n"
     ]
    }
   ],
   "source": [
    "start_time = time.time()\n",
    "rfс_prediction = model_rfc.predict(X_test) # Прогнозування результатів RFC на тестових даних .\n",
    "end_time = time.time()\n",
    "execution_time_rfc_prediction = end_time - start_time\n",
    "print(f\"Час, витрачений  на навчання моделі RFC(тестові дані): {(execution_time_rfc_prediction):.4f} секунд\")"
   ]
  },
  {
   "cell_type": "markdown",
   "metadata": {},
   "source": [
    "# Порівнюємо точність результатів\n",
    "Визначаємо точність моделей на тестовому наборі та порівнюємо"
   ]
  },
  {
   "cell_type": "code",
   "execution_count": 68,
   "metadata": {},
   "outputs": [
    {
     "name": "stdout",
     "output_type": "stream",
     "text": [
      "Точність моделі SVM: 0.8930 ,  Затрачений час на навчання 693.4818 секунд\n",
      "Точність моделі RFC: 0.9997 ,  Затрачений час на навчання 36.3747 секунд\n"
     ]
    }
   ],
   "source": [
    "accuracy_svm = model_svm.score(X_test, y_test)\n",
    "accuracy_rfc = model_rfc.score(X_test, y_test)\n",
    "\n",
    "print(f\"Точність моделі SVM: {accuracy_svm:.4f} ,  Затрачений час на навчання {(execution_time_svm):.4f} секунд\")\n",
    "print(f\"Точність моделі RFC: {accuracy_rfc:.4f} ,  Затрачений час на навчання {(execution_time_rfc):.4f} секунд\")\n",
    "\n"
   ]
  },
  {
   "cell_type": "markdown",
   "metadata": {},
   "source": [
    "# Побудуємо матрицю помилок confusion matrix і візіалізуємо її для наочного порівняння"
   ]
  },
  {
   "cell_type": "code",
   "execution_count": 69,
   "metadata": {},
   "outputs": [
    {
     "data": {
      "image/png": "[encoded data removed]",
      "text/plain": [
       "<Figure size 1000x400 with 4 Axes>"
      ]
     },
     "metadata": {},
     "output_type": "display_data"
    }
   ],
   "source": [
    "conf_matrix_svm = confusion_matrix(y_test, svm_prediction)\n",
    "conf_matrix_rf = confusion_matrix(y_test, rfс_prediction)\n",
    "fig, axes = plt.subplots(1, 2, figsize=(10, 4))\n",
    "\n",
    "classifiers = [\"SVM\", \"Random Forest\"]\n",
    "confusion_matrices = [conf_matrix_svm, conf_matrix_rf]\n",
    "\n",
    "for i, classifier in enumerate(classifiers):\n",
    "    sns.heatmap(\n",
    "        confusion_matrices[i],\n",
    "        annot=True,\n",
    "        fmt='d',\n",
    "        cmap='Greens',\n",
    "        xticklabels=activities,\n",
    "        yticklabels=activities,\n",
    "        ax=axes[i],\n",
    "    )\n",
    "    axes[i].set_title(f\"Confusion Matrix for {classifier} Classifier\")\n",
    "    axes[i].set_xlabel(\"Predicted activity\")\n",
    "    axes[i].set_ylabel(\"True activity\")\n",
    "\n",
    "plt.tight_layout()\n",
    "\n",
    "plt.show()\n"
   ]
  },
  {
   "cell_type": "markdown",
   "metadata": {},
   "source": [
    "# Порівняємо результати роботи обох алгоритмів використавши метод classification report"
   ]
  },
  {
   "cell_type": "code",
   "execution_count": 70,
   "metadata": {},
   "outputs": [
    {
     "name": "stdout",
     "output_type": "stream",
     "text": [
      "              precision    recall  f1-score   support\n",
      "\n",
      "        idle       0.96      0.99      0.97      9351\n",
      "     running       0.93      0.90      0.92     30672\n",
      "      stairs       1.00      0.00      0.01      1485\n",
      "     walking       0.80      0.90      0.85     16650\n",
      "\n",
      "    accuracy                           0.89     58158\n",
      "   macro avg       0.92      0.70      0.69     58158\n",
      "weighted avg       0.90      0.89      0.88     58158\n",
      "\n"
     ]
    }
   ],
   "source": [
    "svm_report = classification_report(y_test, svm_prediction)\n",
    "\n",
    "print(svm_report)"
   ]
  },
  {
   "cell_type": "code",
   "execution_count": 71,
   "metadata": {},
   "outputs": [
    {
     "name": "stdout",
     "output_type": "stream",
     "text": [
      "              precision    recall  f1-score   support\n",
      "\n",
      "        idle       1.00      1.00      1.00      9351\n",
      "     running       1.00      1.00      1.00     30672\n",
      "      stairs       1.00      1.00      1.00      1485\n",
      "     walking       1.00      1.00      1.00     16650\n",
      "\n",
      "    accuracy                           1.00     58158\n",
      "   macro avg       1.00      1.00      1.00     58158\n",
      "weighted avg       1.00      1.00      1.00     58158\n",
      "\n"
     ]
    }
   ],
   "source": [
    "rfc_report = classification_report(y_test, rfс_prediction)\n",
    "\n",
    "print(rfc_report)\n",
    "     "
   ]
  },
  {
   "cell_type": "markdown",
   "metadata": {},
   "source": [
    "# Висновки"
   ]
  },
  {
   "cell_type": "markdown",
   "metadata": {},
   "source": [
    "Проведені нами дослідження та аналіз результаів двох моделей навчання, за алгоритмами SVM і RFC на різних фічах ,вказує на суттєву перевагу  алгоритму RFC над алгоритмом SVM ,для запропонованого ДАТАСЕТУ homework.zip, за ключовими ознаками . А саме точність моделі і швидкість навчання.   \n",
    "Точність моделі SVM: 0.8930 ,  Затрачений час на навчання 539.8018 секунд   \n",
    "Точність моделі RFC: 0.9997 ,  Затрачений час на навчання 33.7478 секунд\n",
    "\n"
   ]
  },
  {
   "cell_type": "markdown",
   "metadata": {},
   "source": [
    "Алгоритм SVM намагається знайти оптимальну підмножину ознак, яка найкраще класифікує дані. У випадку з даними про рух людини, які мають багато шуму і невизначеності, це є дуже складним завданням, шо підтверджується нашими дослідженнями ."
   ]
  },
  {
   "cell_type": "markdown",
   "metadata": {},
   "source": [
    "Алгоритм RFC показує кращу точність та набагато менший час навчання,для запропонованого ДАТАСЕТУ homework.zip, оскільки це більш стійкий до шуму і невизначеності алгоритм. Метод RFC генерує декілька дерев рішень, і кожен з них голосує за класифікацію. Це дозволяє йому бути більш точним, ніж алгоритм SVM, який генерує лише одне дерево рішень. Крім того, метод  має набагато меншу кількість параметрів, ніж алгоритм SVM, що також сприяє його більш швидкому навчанню."
   ]
  },
  {
   "cell_type": "markdown",
   "metadata": {},
   "source": [
    "Також  аналіз матриці помилок та метод classification_report підтверджує, що класифікатор random forest(RFC) помиляється значно менше, ніж SVM"
   ]
  },
  {
   "cell_type": "markdown",
   "metadata": {},
   "source": [
    " Нормалізації ознак - робить дані більш однорідними, що полегшує навчання моделей , підвищує точність класифікації та знижує час навчання."
   ]
  }
 ],
 "metadata": {
  "kernelspec": {
   "display_name": "Python 3",
   "language": "python",
   "name": "python3"
  },
  "language_info": {
   "codemirror_mode": {
    "name": "ipython",
    "version": 3
   },
   "file_extension": ".py",
   "mimetype": "text/x-python",
   "name": "python",
   "nbconvert_exporter": "python",
   "pygments_lexer": "ipython3",
   "version": "3.12.0"
  }
 },
 "nbformat": 4,
 "nbformat_minor": 2
}

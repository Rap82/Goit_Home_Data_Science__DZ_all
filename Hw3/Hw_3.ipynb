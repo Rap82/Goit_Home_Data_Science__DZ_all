{
 "cells": [
  {
   "cell_type": "markdown",
   "metadata": {},
   "source": [
    "# Домашня робота 3 \n",
    "# #                       Класичне машинне навчання"
   ]
  },
  {
   "cell_type": "markdown",
   "metadata": {},
   "source": [
    "# Завдання:\n",
    "Дане домашнє завдання буде повністю пов'язане з лінійною регресією та її реалізацією.  \n",
    "Отож розіб'ємо наше домашнє завдання на декілька частин:  \n",
    "1. Напишіть функцію гіпотези лінійної регресії у векторному вигляді;   \n",
    "2. Створіть функцію для обчислення функції втрат у векторному вигляді;     \n",
    "3. Реалізуйте один крок градієнтного спуску;     \n",
    "4. Знайдіть найкращі параметри w для датасету(Housing.csv) прогнозуючу ціну на будинок залежно від площі, кількості ванних кімнат та кількості спалень;     \n",
    "5. Знайдіть ці ж параметри за допомогою аналітичного рішення;    \n",
    "6. Порівняйте отримані результати. "
   ]
  },
  {
   "cell_type": "markdown",
   "metadata": {},
   "source": [
    "# Імпорт необхідних модулів"
   ]
  },
  {
   "cell_type": "code",
   "execution_count": 342,
   "metadata": {},
   "outputs": [],
   "source": [
    "import numpy as np\n",
    "import pandas as pd\n",
    "import matplotlib.pyplot as plt\n",
    "from sklearn.linear_model import LinearRegression\n",
    "from sklearn.preprocessing import StandardScaler"
   ]
  },
  {
   "cell_type": "markdown",
   "metadata": {},
   "source": [
    "# Матриці Теорія"
   ]
  },
  {
   "cell_type": "markdown",
   "metadata": {},
   "source": [
    "Якщо у вас є набір даних з $m$ вибірок, кожна з яких називається $x^{(i)}$ ($n$-вимірний вектор), і вектор результатів $ Y $ ($m$-вимірний вектор), можна побудувати наступні матриці :"
   ]
  },
  {
   "cell_type": "markdown",
   "metadata": {},
   "source": [
    "1.Матриця ознак"
   ]
  },
  {
   "cell_type": "markdown",
   "metadata": {},
   "source": [
    "$$\\mathbf{X} =\n",
    "\\begin{pmatrix}\n",
    "\\vec{x}^{(1)} \\\\\n",
    "\\vec{x}^{(2)} \\\\\n",
    "\\vdots \\\\\n",
    "\\vec{x}^{(m)} \n",
    "\\end{pmatrix} =\n",
    "\\begin{pmatrix}\n",
    "1 & x_1^{(1)} & x_2^{(1)} & \\ldots & x_n^{(1)} \\\\\n",
    "1 & x_1^{(2)} & x_2^{(2)} & \\ldots & x_n^{(2)} \\\\\n",
    "\\vdots & \\vdots & \\vdots & \\ddots & \\vdots \\\\\n",
    "1 & x_1^{(m)} & x_2^{(m)} & \\ldots & x_n^{(m)} \n",
    "\\end{pmatrix}$$\n"
   ]
  },
  {
   "cell_type": "markdown",
   "metadata": {},
   "source": [
    "2.Вектор результатів"
   ]
  },
  {
   "cell_type": "markdown",
   "metadata": {},
   "source": [
    "$$\\vec{Y} = \n",
    "\\begin{pmatrix}\n",
    "\\vec{y}_1 \\\\\n",
    "\\vec{y}_2 \\\\\n",
    "\\vdots\\\\\n",
    "\\vec{y}_m \\\\\n",
    "\\end{pmatrix}$$\n",
    "  "
   ]
  },
  {
   "cell_type": "markdown",
   "metadata": {},
   "source": [
    "3. Вектор вагових коефіцієнтів"
   ]
  },
  {
   "cell_type": "markdown",
   "metadata": {},
   "source": [
    "$$\\vec{w} = \n",
    "\\begin{pmatrix}\n",
    "\\vec{w}_0 \\\\\n",
    "\\vec{w}_1 \\\\\n",
    "\\vdots\\\\\n",
    "\\vec{w}_n \\\\\n",
    "\\end{pmatrix}$$"
   ]
  },
  {
   "cell_type": "markdown",
   "metadata": {},
   "source": [
    "# 1. Напишіть функцію гіпотези лінійної регресії у векторному вигляді"
   ]
  },
  {
   "cell_type": "markdown",
   "metadata": {},
   "source": [
    "Лінійна регресія моделює лінійну залежність між вхідними ознаками та вихідними значеннями за допомогою рівняння: \n",
    "\n",
    "   Функція має вигляд:\n",
    "    $$ \\vec{h}(\\vec{w}, X) = X \\vec{w}, $$\n",
    "    \"де  $ \\vec{w} $ --- вектор вагових коефіцієнтів, $ X $ --- вектор-стовпець векторів ознак (матриця ознак).\"\n",
    "\n",
    "Основні гіпотези лінійної регресії:  \n",
    "1.Лінійність: Залежність між незалежними та залежними змінними є лінійною.  \n",
    "2.Незалежність: Спостереження незалежні одне від одного.  \n",
    "3.Гомоскедастичність: Варіанс помилок є сталим для всіх спостережень.   \n",
    "4.Нормальність: Помилки нормально розподілені.  \n",
    "Ці гіпотези є основою для проведення статистичних тестів і оцінки якості моделі.  "
   ]
  },
  {
   "cell_type": "code",
   "execution_count": 343,
   "metadata": {},
   "outputs": [],
   "source": [
    "\n",
    "def func_hypothesis(W: np.array, X: np.array) -> np.array:\n",
    "  \"\"\"\n",
    "    Функція гіпотези лінійної регресії у векторному вигляді.\n",
    "\n",
    "    Параметри:\n",
    "    X : Матриця вхідних даних (m x n), де m - кількість зразків, n - кількість ознак.\n",
    "    w : Вектор ваг (n, 1).\n",
    "\n",
    "    Повертає:\n",
    "    Вектор передбачених значень (m, 1).\n",
    "    \"\"\"\n",
    "  \n",
    "  return np.dot(X, W) #  обчислення матричного добутку, return X @ w - ще одний запис того самого.\n"
   ]
  },
  {
   "cell_type": "markdown",
   "metadata": {},
   "source": [
    "# 2. Створіть функцію для обчислення функції втрат у векторному вигляді; "
   ]
  },
  {
   "cell_type": "markdown",
   "metadata": {},
   "source": [
    "## Функція втрат теорія.\n",
    "    \n",
    "    Функція має вигляд:\n",
    "    \n",
    "$$ J(\\vec{w}) = \\frac1{2m} \\left( \\vec{h}(\\vec{w}, \\mathbf{X}) - \\vec{Y} \\right)^2. $$\n",
    "   \n",
    "Функція втрати (loss function) є однією з ключових компонентів в задачах машинного навчання і глибокого навчання, і вона виконує декілька важливих функцій:\n",
    "   1. __Вимірювання помилки моделі__: Функція втрати визначає, наскільки добре модель попереджує або класифікує дані в порівнянні зі справжніми (очікуваними) значеннями. Вона обчислює різницю між прогнозованими і справжніми результатами. Ця різниця, яку часто називають \\\"помилкою\\\" або \\\"втратою\\\", вказує на те, наскільки великою є розрозненість між моделлю та даними.  \n",
    "    \n",
    "   2. __Оптимізація моделі__: Однією з центральних задач в машинному навчанні є оптимізація параметрів моделі так, щоб функція втрати була мінімізована. Іншими словами, ми намагаємося знайти такі значення параметрів моделі, які роблять прогнози якомога ближчими до справжніх даних. Це досягається шляхом зменшення значення функції втрати.   \n",
    "    \n",
    "   3. __Оцінка якості моделі__: Функція втрати дозволяє оцінювати якість моделі. Чим менше значення функції втрати, тим краще модель вирішує задачу. Виміряння втрати на навчальних та тестових даних допомагає визначити, наскільки добре модель узагальнює свої знання на нових даних.\"\n",
    "   "
   ]
  },
  {
   "cell_type": "code",
   "execution_count": 344,
   "metadata": {},
   "outputs": [],
   "source": [
    "def loss_function(W: np.array, X: np.array, Y: np.array) -> float:\n",
    "    m = Y.shape[0]  # Кількість спостережень (навчальних прикладів)\n",
    "    accuracy = (func_hypothesis(W, X) - Y)\n",
    "    return np.dot(accuracy, accuracy ) / (2 * m) # Повертаємо з функції розраховане значення втрат "
   ]
  },
  {
   "cell_type": "markdown",
   "metadata": {},
   "source": [
    "# 3. Реалізуйте один крок градієнтного спуску."
   ]
  },
  {
   "cell_type": "markdown",
   "metadata": {},
   "source": [
    "### Градієнт функції втрат теорія"
   ]
  },
  {
   "cell_type": "markdown",
   "metadata": {},
   "source": [
    "\n",
    "    Вектор-градієнт функції втрат  має вигляд:\n",
    "$$ \\vec{\\nabla} J = \\frac1{m} \\mathbf{X}^{\\mathrm{T}} \\cdot (\\mathrm{X}\\vec{w} - \\vec{Y} )  = \\frac1{m} \\mathbf{X}^{\\mathrm{T}} \\cdot (\\vec{h} - \\vec{Y} ). $$\n",
    "   __Градієнт функції втрат__ (gradient of the loss function) - це вектор, який показує напрямок та швидкість найшвидшого зростання функції втрат в околицях поточного значення параметрів моделі. Іншими словаим, це вектор, який показує, як зміниться значення функції втрат при дуже невеликих змінах параметрів моделі.  \n",
    "    Основні аспекти градієнту функції втрат:  \n",
    "    * __Напрямок__: Градієнт вказує напрямок найшвидшого зростання функції втрат. Якщо ви рухаєтесь в напрямку градієнту, то значення функції втрат буде зростати найшвидше.  \n",
    "    * __Величина__: Модуль градієнту (його довжина) показує, наскільки швидко зростає функція втрат в цьому напрямку. Більший градієнт вказує на більш значущі зміни в функції втрат при малих змінах параметрів моделі.    \n",
    "\n",
    "    Використання градієнту функції втрат дуже важливо в процесі оптимізації моделі, так як він вказує на те, які кроки (зміни параметрів) потрібно зробити для покращення моделі. У методах оптимізації, таких як стохастичний градієнтний спуск, градієнт використовується для оновлення параметрів моделі з метою зменшення функції втрат."
   ]
  },
  {
   "cell_type": "code",
   "execution_count": 345,
   "metadata": {},
   "outputs": [],
   "source": [
    "def gradient_loss_function(W, X, Y):\n",
    "    m = Y.shape[0]  # Кількість спостережень (навчальних прикладів)\n",
    "    accuracy  = func_hypothesis(W, X) - Y  # Різниця між передбаченнями та реальними значеннями (похибка)\n",
    "    gradient = (1 / m) * np.dot(X.T, accuracy )  # Градієнт\n",
    "    return gradient\n",
    "    "
   ]
  },
  {
   "cell_type": "markdown",
   "metadata": {},
   "source": [
    "### Функція градієнтного спуску"
   ]
  },
  {
   "cell_type": "markdown",
   "metadata": {},
   "source": [
    "Формула для обчислення вагових коефіцієнтів в результаті одного кроку градієнтного спуску (одна ітерація) має вигляд:\n",
    "\n",
    " $$ \\vec{w} = \\vec{w}_{\\text{prev}} - \\alpha \\vec{\\nabla} J $$"
   ]
  },
  {
   "cell_type": "code",
   "execution_count": 346,
   "metadata": {},
   "outputs": [],
   "source": [
    "def gradient_descent(X, Y, alpha=0.001, num_iterations=1_000, epsilon=1e-7):\n",
    "    \"\"\"Функція градієнтного спуску\"\"\"\n",
    "   \n",
    "    \n",
    "    n = X.shape[1]  # Кількість ознак (у цьому випадку 3: area, bedrooms, bathrooms)\n",
    "        \n",
    "    W = np.random.randn(n) # Ініціалізуємо вагові коефіцієнти випадковими значеннями\n",
    "    \n",
    "    loss_function_0 = loss_function(W, X, Y)  # Обчислюємо початкову вартість\n",
    "    \n",
    "    history_loss_function = [loss_function_0] # Задаємо початковий елемент списку(початкову вартість)\n",
    "    \n",
    "    for _ in range(num_iterations):       \n",
    "        \n",
    "        W -= alpha * gradient_loss_function(W, X, Y)  # Оновлюємо коефіцієнти\n",
    "        # де \n",
    "        #   *alpha: Це коефіцієнт навчання (learning rate), який визначає, наскільки великим буде крок у напрямку градієнта. \n",
    "        #          Якщо він занадто великий, ви можете \"перепригнути\" мінімум, а якщо занадто малий — навчання буде повільним.\n",
    "        #    *W -= ... , оновлює ваги шляхом віднімання від них обчисленого значення.\n",
    "        \n",
    "        loss_function_current = loss_function(W, X, Y) # Обчислюємо нову вартість\n",
    "        \n",
    "        history_loss_function.append(loss_function_current) # Добавляємо до списку нову вартість.\n",
    "        \n",
    "        if np.abs(loss_function_current - loss_function_0) < epsilon: # Перевірка на збіжність (Виконуємо цикл доки  абсолютна різниця між значеннями функції втрат у двох сусідніх ітераціях не стане меншо за *epsilon)\n",
    "                                              # *epsilon: Це поріг, який визначає, наскільки малі зміни в значенні функції втрат вважаються незначними. \n",
    "                                              # Якщо зміна менша за цей поріг, це вказує на те, що модель досягла стабільності.\n",
    "            break\n",
    "        \n",
    "        loss_function_0 = loss_function_current # # Оновлюємо попередню вартість\n",
    "        # Принципи машиного навчання :\n",
    "        #           # Ефективність: Якщо модель вже досягла оптимального значення функції втрат, подальші ітерації можуть бути непотрібними та витрачати ресурси.\n",
    "                    # Запобігання перенавчанню: Перевірка на збіжність допомагає уникнути ситуацій, коли модель продовжує навчатися, навіть коли це вже не є корисним.\n",
    "        \n",
    "    return W, history_loss_function # Повертаємо :  *W - Вектор ваг (коефіцієнтів) моделі, що були оптимізовані в процесі навчання. \n",
    "                                            # Це є результатом градієнтного спуску, який мінімізує функцію втрат.\n",
    "                                    #   *history_loss_function: Список значень функції втрат (вартість) на кожній ітерації. Це дозволяє відстежувати, як змінюється вартість під час навчання, \n",
    "                                            # що може бути корисно для аналізу процесу навчання та візуалізації.\n"
   ]
  },
  {
   "cell_type": "markdown",
   "metadata": {},
   "source": [
    "#                                                       # Практичні завдання "
   ]
  },
  {
   "cell_type": "markdown",
   "metadata": {},
   "source": [
    "Наша задача --- проаналізувати, як залежить ціна на будинок h залежно від площі S, кількості ванних кімнат  $x_1$,  та кількості спалень  $x_2$\n",
    "."
   ]
  },
  {
   "cell_type": "code",
   "execution_count": 347,
   "metadata": {},
   "outputs": [],
   "source": [
    "df = pd.read_csv('Housing.csv')\n",
    "X = df[['area', 'bedrooms', 'bathrooms']].to_numpy()\n",
    "Y = df.price.to_numpy()"
   ]
  },
  {
   "cell_type": "code",
   "execution_count": 348,
   "metadata": {},
   "outputs": [],
   "source": [
    "def normalize_features(X):\n",
    "    mean = np.mean(X, axis=0)\n",
    "    std = np.std(X, axis=0)\n",
    "    \n",
    "    # Перевіряємо, що стандартне відхилення не дорівнює нулю\n",
    "    std[std == 0] = 1\n",
    "    \n",
    "    normalized_X = (X - mean) / std\n",
    "    return normalized_X, mean, std"
   ]
  },
  {
   "cell_type": "markdown",
   "metadata": {},
   "source": [
    "### Нормалізація даних\n",
    "Осікільки площа квартири $S=\\text{area}$ на порядки відрізняється від кількості $x_1=\\text{bedrooms}$ спалень і ваних  $x_2= \\text{bathrooms}$ , необхідно виконати нормалізацію даних, щоб наша модель швидше навчалась.\n",
    " \n",
    "Нормалізацію виконаємо за формулою:\n",
    "$$ \\mathrm{X}^{\\text{norm}} = \\frac{\\mathrm{X} - \\overline{\\mathrm{X}}}{\\sigma}, $$\n",
    "де $\\overline{\\mathrm{X}}$ - середнє (за стовбчиком), $\\sigma$ - дисперсія (стандртне відхилення)"
   ]
  },
  {
   "cell_type": "code",
   "execution_count": 349,
   "metadata": {},
   "outputs": [],
   "source": [
    "# Нормалізуємо ознаки\n",
    "X_n, mean, std = normalize_features(X)\n",
    "\n",
    "# Додаємо стовпець з одиницями для вільного члена (bias)\n",
    "X_n = np.column_stack([np.ones(len(X)), X_n])\n"
   ]
  },
  {
   "cell_type": "code",
   "execution_count": 350,
   "metadata": {},
   "outputs": [],
   "source": [
    "# Викликаємо функцію градієнтного спуску\n",
    "\n",
    "learned_weights, history_loss_function = gradient_descent(X_n, Y, num_iterations=100_000)\n",
    "\n",
    "# Відновлюємо ненормалізовані ваги\n",
    "intercept = learned_weights[0]\n",
    "coefficients = learned_weights[1:] / std"
   ]
  },
  {
   "cell_type": "markdown",
   "metadata": {},
   "source": [
    "### метод градієнтного спуску.\n",
    "\n",
    "Вагові коефіцієнти після градієнтного спуску"
   ]
  },
  {
   "cell_type": "code",
   "execution_count": 351,
   "metadata": {},
   "outputs": [
    {
     "name": "stdout",
     "output_type": "stream",
     "text": [
      "Вільний член (intercept): 4766729.23373378\n",
      "Градієнтний спуск :\n",
      " Коефіцієнти ознак  (area, bedrooms, bathrooms):\n",
      "     [3.78762797e+02 4.06821020e+05 1.38604797e+06]\n"
     ]
    }
   ],
   "source": [
    "print(f\"Вільний член (intercept): {intercept}\")\n",
    "print(f\"Градієнтний спуск :\\n Коефіцієнти ознак  (area, bedrooms, bathrooms):\\n     {coefficients}\")"
   ]
  },
  {
   "cell_type": "markdown",
   "metadata": {},
   "source": [
    "Побудуємо графік для наочної візуалізації"
   ]
  },
  {
   "cell_type": "code",
   "execution_count": 352,
   "metadata": {},
   "outputs": [
    {
     "data": {
      "image/png": "[encoded data removed]",
      "text/plain": [
       "<Figure size 640x480 with 1 Axes>"
      ]
     },
     "metadata": {},
     "output_type": "display_data"
    }
   ],
   "source": [
    "plt.plot(history_loss_function)\n",
    "plt.xlabel('Номер ітерації')\n",
    "plt.ylabel('Значення функції втрат, J')\n",
    "plt.title('Графік зміни функції втрат від ітерації')\n",
    "plt.grid(True)\n",
    "\n",
    "plt.show()"
   ]
  },
  {
   "cell_type": "markdown",
   "metadata": {},
   "source": [
    "### Метод аналітичного рішення"
   ]
  },
  {
   "cell_type": "markdown",
   "metadata": {},
   "source": [
    "#### Теорія "
   ]
  },
  {
   "cell_type": "markdown",
   "metadata": {},
   "source": [
    "Аналітичний вираз для вектора вагових коефіцієнтів:\n",
    "\n",
    "$$ \\vec{w}^* = \\left(\\mathbf{X}^{\\mathrm{T}} \\mathbf{X}\\right)^{-1}\\mathbf{X}^{\\mathrm{T}} \\vec{y}. $$"
   ]
  },
  {
   "cell_type": "markdown",
   "metadata": {},
   "source": [
    "Аналітичний метод надає точні значення коефіцієнтів, але для знаходження вектора вагових коефіцієнтів за аналітичним методом потрібно обчислювати обернену матрицю $\\left(\\mathbf{X}^{\\mathrm{T}} \\mathbf{X}\\right)^{-1}$, що може вимагати значних обчислювальних ресурсів. Зокрема, обчислення оберненої матриці має складність порядку $k^3$, де $k$ - розмірність матриці. Це може бути дуже витратним з обчислювальної точки зору.\n",
    "Окрім того, якщо матриця $\\mathbf{X}^{\\mathrm{T}} \\mathbf{X}$ є погано обумовленою, це означає, що власні числа цієї матриці близькі до нуля. Погано обумовлена матриця може виникнути, наприклад, коли деякі ознаки (стовпці матриці $\\mathbf{X}$) мають високу кореляцію або колінеарність. У таких випадках обчислення оберненої матриці може бути непростим завданням, і воно може стати чисельно нестійким, що призводить до неточностей і неправильних результатів.\n",
    " \n",
    "    \n",
    "Отже, в реальних задачах машинного навчання, де матриця $\\mathbf{X}^{\\mathrm{T}} \\mathbf{X}$ може бути погано обумовленою або великого розміру, аналітичний метод може бути невигідним через обчислювальну складність та чисельну нестійкість, і частіше використовуються інші методи оптимізації, такі як ітеративні методи (наприклад, градієнтний спуск), які є більш ефективними та стійкими до чисельних проблем."
   ]
  },
  {
   "cell_type": "code",
   "execution_count": 353,
   "metadata": {},
   "outputs": [
    {
     "name": "stdout",
     "output_type": "stream",
     "text": [
      "Аналітичне рішення :\n",
      " Коефіцієнти ознак  (area, bedrooms, bathrooms):\n",
      " [3.72448352e+02 3.68974672e+05 1.37031315e+06]\n"
     ]
    }
   ],
   "source": [
    "# Аналітичне рішення для знаходження оптимальних параметрів\n",
    "def analytical_solution(X, Y):\n",
    "    \"\"\"\n",
    "    Функція для обчислення оптимальних ваг з допомогою аналітичного рішення (нормальні рівняння).\n",
    "\n",
    "    Параметри:\n",
    "    X (numpy.ndarray): Матриця вхідних даних (m x n).\n",
    "    Y (numpy.ndarray): Вектор істинних значень (m,).\n",
    "\n",
    "    Повертає:\n",
    "    numpy.ndarray: Вектор оптимальних ваг.\n",
    "    \"\"\"\n",
    "    analitical_W = np.linalg.pinv(X.T @ X) @ X.T @ Y # Нормальні рівняння , де X.T -транспонування матриці X\n",
    "    return analitical_W\n",
    "\n",
    "# Обчислення ваг аналітично\n",
    "weights_analytical = analytical_solution(X, Y)\n",
    "print(\"Аналітичне рішення :\\n Коефіцієнти ознак  (area, bedrooms, bathrooms):\\n\", weights_analytical)"
   ]
  },
  {
   "cell_type": "markdown",
   "metadata": {},
   "source": [
    "### Алгоритми  методу найменших квадратів (МНК)\n",
    "Алгоритми бібліотеки - sklearn.linear_model"
   ]
  },
  {
   "cell_type": "code",
   "execution_count": 354,
   "metadata": {},
   "outputs": [
    {
     "name": "stdout",
     "output_type": "stream",
     "text": [
      "МНК із бібліотеки scisklearn.linear_model :\n",
      " Коефіцієнти ознак  (area, bedrooms, bathrooms):\n",
      " [3.78762754e+02 4.06820034e+05 1.38604950e+06]\n"
     ]
    }
   ],
   "source": [
    "regressor = LinearRegression().fit(X, Y)\n",
    "h_sk = regressor.predict(X)\n",
    "\n",
    "print(\"МНК із бібліотеки scisklearn.linear_model :\\n Коефіцієнти ознак  (area, bedrooms, bathrooms):\\n\", regressor.coef_ )"
   ]
  },
  {
   "cell_type": "markdown",
   "metadata": {},
   "source": [
    "### Для аналізу правильності роботи наших алгоритмів візьмемо реальний приклад. "
   ]
  },
  {
   "cell_type": "markdown",
   "metadata": {},
   "source": [
    "Нехай площа нашої квартири S = 2400 м2 , має 2 спальню  $x_1=2$  і дві ванни $x_2=1$ "
   ]
  },
  {
   "cell_type": "code",
   "execution_count": 355,
   "metadata": {},
   "outputs": [],
   "source": [
    "my_X = np.array([[2400, 2, 1]])"
   ]
  },
  {
   "cell_type": "markdown",
   "metadata": {},
   "source": [
    "Розрахунок вартості квартири функцією гіпотизи за кофіцієнтами градієнтного спуску"
   ]
  },
  {
   "cell_type": "code",
   "execution_count": 356,
   "metadata": {},
   "outputs": [
    {
     "name": "stdout",
     "output_type": "stream",
     "text": [
      "Ціна за квартиру 3108721\n"
     ]
    }
   ],
   "source": [
    "print(f\"Ціна за квартиру {func_hypothesis(coefficients, my_X)[0]:.0f}\")"
   ]
  },
  {
   "cell_type": "markdown",
   "metadata": {},
   "source": [
    "Розрахунок вартості квартири функцією гіпотизи за кофіцієнтами аналітичного рішення.\n"
   ]
  },
  {
   "cell_type": "code",
   "execution_count": 357,
   "metadata": {},
   "outputs": [
    {
     "name": "stdout",
     "output_type": "stream",
     "text": [
      "Ціна за квартиру 3002139\n"
     ]
    }
   ],
   "source": [
    "print(f\"Ціна за квартиру {func_hypothesis(weights_analytical, my_X)[0]:.0f}\")"
   ]
  },
  {
   "cell_type": "markdown",
   "metadata": {},
   "source": [
    "Розрахунок вартості квартири за функією з  бібліотеки scisklearn.linear_model"
   ]
  },
  {
   "cell_type": "code",
   "execution_count": 358,
   "metadata": {},
   "outputs": [
    {
     "name": "stdout",
     "output_type": "stream",
     "text": [
      "Ціна за квартиру 2935549\n"
     ]
    }
   ],
   "source": [
    "print(f\"Ціна за квартиру {regressor.predict(my_X)[0]:.0f}\")"
   ]
  },
  {
   "cell_type": "markdown",
   "metadata": {},
   "source": [
    "# Висновки  \n",
    "Відмінності в значеннях коефіцієнтів між методами (градієнтним спуском, аналітичним методом і МНК) може бути зумовлена відмінностями в підходах і параметрах кожного методу.\n",
    "\n",
    "У цьому контексті:  \n",
    "\n",
    "1. Градієнтний спуск - ітеративний метод, який залежить від початкової ініціалізації та параметрів навчання, таких як швидкість навчання. Результати можуть варіюватися залежно від цих факторів. \n",
    "\n",
    "2. Аналітичний метод - знаходить точне аналітичне рішення і не залежить від параметрів навчання.\n",
    "\n",
    "3. Метод найменших квадратів (МНК) - також знаходить точне рішення і не вимагає налаштування параметрів навчання.\n",
    "\n",
    "Відмінності у вагових коефіцієнтах можуть бути спричинені як відмінностями в методах оптимізації, так і в особливостях даних, таких як наявність викидів, шумів або кореляцій між ознаками. Однак важливо зазначити, що за правильного налаштування й обробки даних відмінності в коефіцієнтах між цими методами мають бути незначними, і всі три методи мають давати схожі результати в контексті лінійної регресії."
   ]
  }
 ],
 "metadata": {
  "kernelspec": {
   "display_name": "Python 3",
   "language": "python",
   "name": "python3"
  },
  "language_info": {
   "codemirror_mode": {
    "name": "ipython",
    "version": 3
   },
   "file_extension": ".py",
   "mimetype": "text/x-python",
   "name": "python",
   "nbconvert_exporter": "python",
   "pygments_lexer": "ipython3",
   "version": "3.12.0"
  }
 },
 "nbformat": 4,
 "nbformat_minor": 2
}

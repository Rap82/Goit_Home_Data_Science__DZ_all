{
  "nbformat": 4,
  "nbformat_minor": 0,
  "metadata": {
    "colab": {
      "provenance": [],
      "toc_visible": true,
      "authorship_tag": "ABX9TyOiOMltcpWmjNzZk56pFpFW",
      "include_colab_link": true
    },
    "kernelspec": {
      "name": "python3",
      "display_name": "Python 3"
    },
    "language_info": {
      "name": "python"
    }
  },
  "cells": [
    {
      "cell_type": "markdown",
      "metadata": {
        "id": "view-in-github",
        "colab_type": "text"
      },
      "source": [
        "<a href=\"https://colab.research.google.com/github/Rap82/Goit_Home_Data_Science__DZ_all/blob/main/Hw7.ipynb\" target=\"_parent\"><img src=\"https://colab.research.google.com/assets/colab-badge.svg\" alt=\"Open In Colab\"/></a>"
      ]
    },
    {
      "cell_type": "markdown",
      "source": [
        "# Домашння робота № 8"
      ],
      "metadata": {
        "id": "6dc_1f3r0Ma2"
      }
    },
    {
      "cell_type": "markdown",
      "source": [
        "# Завдання\n",
        "Візьміть датасет https://grouplens.org/datasets/movielens/latest/ і побудуйте модель матричної факторизації. У даній бібліотеці він має назву SVD. Підберіть найкращі параметри за допомогою крос-валідації, також поекспериментуйте з іншими алгоритмами розрахунків (SVD++, NMF) і оберіть той, який буде оптимальним."
      ],
      "metadata": {
        "id": "aPDpFf-jzUU5"
      }
    },
    {
      "cell_type": "code",
      "source": [
        "!pip install surprise"
      ],
      "metadata": {
        "colab": {
          "base_uri": "https://localhost:8080/"
        },
        "id": "YvDmvmu40Am_",
        "outputId": "dc2e0bf0-7e54-4385-b49a-918f0cb9e9e4"
      },
      "execution_count": null,
      "outputs": [
        {
          "output_type": "stream",
          "name": "stdout",
          "text": [
            "Collecting surprise\n",
            "  Downloading surprise-0.1-py2.py3-none-any.whl.metadata (327 bytes)\n",
            "Collecting scikit-surprise (from surprise)\n",
            "  Downloading scikit_surprise-1.1.4.tar.gz (154 kB)\n",
            "\u001b[2K     \u001b[90m━━━━━━━━━━━━━━━━━━━━━━━━━━━━━━━━━━━━━━━━\u001b[0m \u001b[32m154.4/154.4 kB\u001b[0m \u001b[31m1.5 MB/s\u001b[0m eta \u001b[36m0:00:00\u001b[0m\n",
            "\u001b[?25h  Installing build dependencies ... \u001b[?25l\u001b[?25hdone\n",
            "  Getting requirements to build wheel ... \u001b[?25l\u001b[?25hdone\n",
            "  Preparing metadata (pyproject.toml) ... \u001b[?25l\u001b[?25hdone\n",
            "Requirement already satisfied: joblib>=1.2.0 in /usr/local/lib/python3.10/dist-packages (from scikit-surprise->surprise) (1.4.2)\n",
            "Requirement already satisfied: numpy>=1.19.5 in /usr/local/lib/python3.10/dist-packages (from scikit-surprise->surprise) (1.26.4)\n",
            "Requirement already satisfied: scipy>=1.6.0 in /usr/local/lib/python3.10/dist-packages (from scikit-surprise->surprise) (1.13.1)\n",
            "Downloading surprise-0.1-py2.py3-none-any.whl (1.8 kB)\n",
            "Building wheels for collected packages: scikit-surprise\n",
            "  Building wheel for scikit-surprise (pyproject.toml) ... \u001b[?25l\u001b[?25hdone\n",
            "  Created wheel for scikit-surprise: filename=scikit_surprise-1.1.4-cp310-cp310-linux_x86_64.whl size=2357262 sha256=f01f34656d41daaa1a02edf92fe679e752c9dd4fafbed18010bbcab2e25218d7\n",
            "  Stored in directory: /root/.cache/pip/wheels/4b/3f/df/6acbf0a40397d9bf3ff97f582cc22fb9ce66adde75bc71fd54\n",
            "Successfully built scikit-surprise\n",
            "Installing collected packages: scikit-surprise, surprise\n",
            "Successfully installed scikit-surprise-1.1.4 surprise-0.1\n"
          ]
        }
      ]
    },
    {
      "cell_type": "code",
      "source": [
        "from surprise import SVD, SVDpp, NMF\n",
        "from surprise import Dataset\n",
        "from surprise import accuracy\n",
        "from surprise.model_selection import train_test_split, cross_validate, RandomizedSearchCV\n",
        "from hyperopt import hp, fmin, tpe\n",
        "import pandas as pd"
      ],
      "metadata": {
        "id": "F_sqcH2M0_Hx"
      },
      "execution_count": null,
      "outputs": []
    },
    {
      "cell_type": "markdown",
      "source": [
        "## Завантаження та створення запропонованого датасету \"ml-100k\" для дослідження."
      ],
      "metadata": {
        "id": "ydNYQFpg3XkO"
      }
    },
    {
      "cell_type": "code",
      "source": [
        "data = Dataset.load_builtin('ml-100k')"
      ],
      "metadata": {
        "colab": {
          "base_uri": "https://localhost:8080/"
        },
        "id": "JdWAMipt1FTl",
        "outputId": "e232d6ef-c093-428b-db50-4879a763a358"
      },
      "execution_count": null,
      "outputs": [
        {
          "output_type": "stream",
          "name": "stdout",
          "text": [
            "Dataset ml-100k could not be found. Do you want to download it? [Y/n] y\n",
            "Trying to download dataset from https://files.grouplens.org/datasets/movielens/ml-100k.zip...\n",
            "Done! Dataset ml-100k has been saved to /root/.surprise_data/ml-100k\n"
          ]
        }
      ]
    },
    {
      "cell_type": "markdown",
      "source": [
        "# Формуємо навчальні і тестові дані для нашої моделі  trainset and testset"
      ],
      "metadata": {
        "id": "IyRxjRmF4kkB"
      }
    },
    {
      "cell_type": "code",
      "source": [
        "# testset= 0.25 .Тестовий набір складає 25% від усіх оцінок, що дозволяє забезпечити адекватну оцінку моделі без надлишкової залежності\n",
        "# від навчальних даних.\n",
        "train_set, test_set = train_test_split(data, test_size=0.25)"
      ],
      "metadata": {
        "id": "IKe9uIhn3zd1"
      },
      "execution_count": null,
      "outputs": []
    },
    {
      "cell_type": "markdown",
      "source": [
        "# Mоделі матричної факторизації"
      ],
      "metadata": {
        "id": "OGTdTJIE6TtF"
      }
    },
    {
      "cell_type": "markdown",
      "source": [
        "## Показники які будемо аналізувати для запропонованих алгоритмів\n",
        "**RMSE** - root-mean-square error   (Середньоквадратична помилка)    \n",
        "**MAE** - mean absolute error (Середнє абсолютне відхилення)  \n",
        "**Fit Time** (Час навчання)   \n",
        "**Test Time** (Час тестування)   "
      ],
      "metadata": {
        "id": "L56HX7IW-rQX"
      }
    },
    {
      "cell_type": "markdown",
      "source": [
        "## Algorithm SVD.   \n",
        "Метод SVD може бути адаптований до наборів даних з неявним зворотним зв'язком (implicit feedback).  \n",
        "\n"
      ],
      "metadata": {
        "id": "qhtbuNPS6WoK"
      }
    },
    {
      "cell_type": "markdown",
      "source": [
        "Розрахуємо точність моделі за допомогою алгоритму **SVD** на основі тренувальних і тестових даних **train_set**, **test_set**"
      ],
      "metadata": {
        "id": "7j7SbwGfhusG"
      }
    },
    {
      "cell_type": "code",
      "source": [
        "import time\n",
        "\n",
        "start_time = time.time()  # Початок вимірювання часу\n",
        "svd_train = SVD(random_state=42).fit(train_set) # Навчання моделі на даних train_set\n",
        "end_time = time.time()  # Кінець вимірювання часу\n",
        "execution_time_SVD = end_time - start_time  # Час виконання\n",
        "\n",
        "svd_predict = svd_train.test(test_set) # Прогнозування на даних test_set\n",
        "svd_rmse = accuracy.rmse(svd_predict,verbose=True) # Визначення точності моделі методом rmse\n",
        "svd_mse = accuracy.mse(svd_predict,verbose=True) # Визначення точності моделі методом mse\n",
        "print(f\"Час затрачений на навчання Algorithm SVD : {execution_time_SVD:.4f} секунд\")\n"
      ],
      "metadata": {
        "colab": {
          "base_uri": "https://localhost:8080/"
        },
        "id": "Drjh9jn1bkz7",
        "outputId": "8b3b6345-404e-4e7f-e408-886a8e9802b5"
      },
      "execution_count": null,
      "outputs": [
        {
          "output_type": "stream",
          "name": "stdout",
          "text": [
            "RMSE: 0.9349\n",
            "MSE: 0.8740\n",
            "Час затрачений на навчання Algorithm SVD : 1.2941 секунд\n"
          ]
        }
      ]
    },
    {
      "cell_type": "markdown",
      "source": [
        "### Крос-валідація для алгоритму SVD"
      ],
      "metadata": {
        "id": "XGEM9NfvgTYC"
      }
    },
    {
      "cell_type": "code",
      "source": [
        "SVD_result = cross_validate(SVD(random_state=42), data, measures=['RMSE', 'MAE'], cv=5, verbose=True)\n",
        "SVD_result = pd.DataFrame.from_dict(SVD_result).mean(axis=0)"
      ],
      "metadata": {
        "colab": {
          "base_uri": "https://localhost:8080/"
        },
        "id": "EpFtbnIZe_El",
        "outputId": "7d852ab5-4911-40e0-93e9-a8ef84938cf0"
      },
      "execution_count": null,
      "outputs": [
        {
          "output_type": "stream",
          "name": "stdout",
          "text": [
            "Evaluating RMSE, MAE of algorithm SVD on 5 split(s).\n",
            "\n",
            "                  Fold 1  Fold 2  Fold 3  Fold 4  Fold 5  Mean    Std     \n",
            "RMSE (testset)    0.9315  0.9408  0.9382  0.9300  0.9380  0.9357  0.0042  \n",
            "MAE (testset)     0.7338  0.7407  0.7387  0.7324  0.7401  0.7371  0.0034  \n",
            "Fit time          3.71    1.54    1.55    1.51    1.53    1.97    0.87    \n",
            "Test time         0.14    0.19    0.33    0.21    0.17    0.21    0.07    \n"
          ]
        }
      ]
    },
    {
      "cell_type": "markdown",
      "source": [
        "## Algorithm SVD++ (SVDpp)   \n",
        "Алгоритм SVD++ можна використовувати, коли ми маємо доступ як до явного (explicit), так і до неявного (implicit) зворотного зв'язку. Це може бути дуже корисно, тому що зазвичай користувачі взаємодіють з багатьма елементами ( неявний зворотній зв'язок), але оцінюють лише невелику підмножину з них ( явний зворотній зв'язок)."
      ],
      "metadata": {
        "id": "1GM_Hk_c8UH6"
      }
    },
    {
      "cell_type": "markdown",
      "source": [
        "Розрахуємо точність моделі за допомогою алгоритму **SVD++ (SVDpp)**  на основі тренувальних і тестових даних **train_set**, **test_set**"
      ],
      "metadata": {
        "id": "q_kAH0wPlGW4"
      }
    },
    {
      "cell_type": "code",
      "source": [
        "start_time = time.time()  # Початок вимірювання часу\n",
        "svdpp_train = SVDpp(random_state=42).fit(train_set)# Навчання моделі на даних train_set\n",
        "end_time = time.time()  # Кінець вимірювання часу\n",
        "execution_time_SVDpp = end_time - start_time  # Час виконання\n",
        "\n",
        "svdpp_predict = svdpp_train.test(test_set)# Прогнозування на даних test_set\n",
        "svdpp_rmse = accuracy.rmse(svdpp_predict,verbose=True)# Визначення точності моделі методом rmse\n",
        "svdpp_mse = accuracy.mse(svdpp_predict,verbose=True)# Визначення точності моделі методом mse\n",
        "print(f\"Час затрачений на навчання Algorithm SVD++ (SVDpp) : {execution_time_SVDpp:.4f} секунд\")"
      ],
      "metadata": {
        "colab": {
          "base_uri": "https://localhost:8080/"
        },
        "id": "BJB7vXeTllBX",
        "outputId": "a0c53bb2-1bc5-4cb5-f559-453305200661"
      },
      "execution_count": null,
      "outputs": [
        {
          "output_type": "stream",
          "name": "stdout",
          "text": [
            "RMSE: 0.9168\n",
            "MSE: 0.8405\n",
            "Час затрачений на навчання Algorithm SVD++ (SVDpp) : 26.4428 секунд\n"
          ]
        }
      ]
    },
    {
      "cell_type": "markdown",
      "source": [
        "### Крос-валідація для алгоритму **SVDpp**"
      ],
      "metadata": {
        "id": "hap-ahLkmHEd"
      }
    },
    {
      "cell_type": "code",
      "source": [
        "SVDpp_result = cross_validate(SVDpp(random_state=42), data, measures=['RMSE', 'MAE'], cv=5, verbose=True)\n",
        "SVDpp_result = pd.DataFrame.from_dict(SVDpp_result).mean(axis=0)"
      ],
      "metadata": {
        "colab": {
          "base_uri": "https://localhost:8080/"
        },
        "id": "ki5-mcf68nSy",
        "outputId": "85181768-1173-4538-9de3-fa8ec3a7cf41"
      },
      "execution_count": null,
      "outputs": [
        {
          "output_type": "stream",
          "name": "stdout",
          "text": [
            "Evaluating RMSE, MAE of algorithm SVDpp on 5 split(s).\n",
            "\n",
            "                  Fold 1  Fold 2  Fold 3  Fold 4  Fold 5  Mean    Std     \n",
            "RMSE (testset)    0.9183  0.9234  0.9210  0.9245  0.9138  0.9202  0.0038  \n",
            "MAE (testset)     0.7168  0.7234  0.7246  0.7271  0.7162  0.7216  0.0044  \n",
            "Fit time          27.30   27.27   27.61   27.39   27.73   27.46   0.18    \n",
            "Test time         4.44    5.59    4.54    5.75    4.50    4.96    0.58    \n"
          ]
        }
      ]
    },
    {
      "cell_type": "markdown",
      "source": [
        "## Algorithm NMF"
      ],
      "metadata": {
        "id": "QyNeXbZ1-YcL"
      }
    },
    {
      "cell_type": "markdown",
      "source": [
        "### **NMF (Non-negative Matrix Factorization) **— це метод факторизації матриць, який розкладає не від'ємну матрицю на добуток двох (або більше) не від'ємних матриць. Цей алгоритм часто використовується в задачах обробки даних, таких як розпізнавання образів, рекомендовані системи та тематичне моделювання."
      ],
      "metadata": {
        "id": "2-nNIm4pAhSi"
      }
    },
    {
      "cell_type": "code",
      "source": [
        "start_time = time.time()  # Початок вимірювання часу\n",
        "NMF_train = NMF(random_state=42).fit(train_set)# Навчання моделі на даних train_set\n",
        "end_time = time.time()  # Кінець вимірювання часу\n",
        "execution_time_NMF = end_time - start_time  # Час виконання\n",
        "\n",
        "NMF_predict = NMF_train.test(test_set)# Прогнозування на даних test_set\n",
        "NMF_rmse = accuracy.rmse(NMF_predict,verbose=True)# Визначення точності моделі методом rmse\n",
        "NMF_mse = accuracy.mse(NMF_predict,verbose=True)# Визначення точності моделі методом mse\n",
        "print(f\"Час затрачений на навчання Algorithm NMF : {execution_time_NMF:.4f} секунд\")"
      ],
      "metadata": {
        "colab": {
          "base_uri": "https://localhost:8080/"
        },
        "id": "t09mO8K1sc8K",
        "outputId": "180e4666-4fb4-44fd-9eb0-5b74bc6345d4"
      },
      "execution_count": null,
      "outputs": [
        {
          "output_type": "stream",
          "name": "stdout",
          "text": [
            "RMSE: 0.9639\n",
            "MSE: 0.9290\n",
            "Час затрачений на навчання Algorithm NMF : 2.3587 секунд\n"
          ]
        }
      ]
    },
    {
      "cell_type": "code",
      "source": [
        "NMF_result = cross_validate(NMF(random_state=42), data, measures=['RMSE', 'MAE'], cv=5, verbose=True)\n",
        "NMF_result = pd.DataFrame.from_dict(NMF_result).mean(axis=0)"
      ],
      "metadata": {
        "colab": {
          "base_uri": "https://localhost:8080/"
        },
        "id": "C_4mhI0IAsHp",
        "outputId": "f851fa8b-1ca3-46fd-9044-04025c4d0a90"
      },
      "execution_count": null,
      "outputs": [
        {
          "output_type": "stream",
          "name": "stdout",
          "text": [
            "Evaluating RMSE, MAE of algorithm NMF on 5 split(s).\n",
            "\n",
            "                  Fold 1  Fold 2  Fold 3  Fold 4  Fold 5  Mean    Std     \n",
            "RMSE (testset)    0.9576  0.9588  0.9631  0.9596  0.9630  0.9604  0.0022  \n",
            "MAE (testset)     0.7515  0.7557  0.7583  0.7538  0.7579  0.7554  0.0025  \n",
            "Fit time          4.14    2.31    2.32    2.27    3.21    2.85    0.74    \n",
            "Test time         0.13    0.11    0.10    0.15    0.11    0.12    0.02    \n"
          ]
        }
      ]
    },
    {
      "cell_type": "markdown",
      "source": [
        "##Створимо DataFrame для зберігання результатів крос-валідації cv=5, трьох різних алгоритмів **(SVD, SVDpp, NMF)** і заповнимо його середніми значеннями метрик для кожного з них."
      ],
      "metadata": {
        "id": "ykOhUkl9CrUV"
      }
    },
    {
      "cell_type": "code",
      "source": [
        "algo_result = pd.DataFrame(columns=['SVD', 'SVDpp', 'NMF'])\n",
        "algo_result['SVD'] = SVD_result\n",
        "algo_result['SVDpp'] = SVDpp_result\n",
        "algo_result['NMF'] = NMF_result\n",
        "algo_result"
      ],
      "metadata": {
        "colab": {
          "base_uri": "https://localhost:8080/",
          "height": 175
        },
        "id": "4rUraL6PFGK9",
        "outputId": "070fff42-88fd-4b95-b9d0-5a2c2ad57b75"
      },
      "execution_count": null,
      "outputs": [
        {
          "output_type": "execute_result",
          "data": {
            "text/plain": [
              "                SVD      SVDpp       NMF\n",
              "test_rmse  0.935693   0.920201  0.961621\n",
              "test_mae   0.737124   0.721613  0.756230\n",
              "fit_time   1.966924  27.460814  2.510822\n",
              "test_time  0.207651   4.962512  0.218075"
            ],
            "text/html": [
              "\n",
              "  <div id=\"df-47ae7098-01a5-4e89-b831-aa394a315c2e\" class=\"colab-df-container\">\n",
              "    <div>\n",
              "<style scoped>\n",
              "    .dataframe tbody tr th:only-of-type {\n",
              "        vertical-align: middle;\n",
              "    }\n",
              "\n",
              "    .dataframe tbody tr th {\n",
              "        vertical-align: top;\n",
              "    }\n",
              "\n",
              "    .dataframe thead th {\n",
              "        text-align: right;\n",
              "    }\n",
              "</style>\n",
              "<table border=\"1\" class=\"dataframe\">\n",
              "  <thead>\n",
              "    <tr style=\"text-align: right;\">\n",
              "      <th></th>\n",
              "      <th>SVD</th>\n",
              "      <th>SVDpp</th>\n",
              "      <th>NMF</th>\n",
              "    </tr>\n",
              "  </thead>\n",
              "  <tbody>\n",
              "    <tr>\n",
              "      <th>test_rmse</th>\n",
              "      <td>0.935693</td>\n",
              "      <td>0.920201</td>\n",
              "      <td>0.961621</td>\n",
              "    </tr>\n",
              "    <tr>\n",
              "      <th>test_mae</th>\n",
              "      <td>0.737124</td>\n",
              "      <td>0.721613</td>\n",
              "      <td>0.756230</td>\n",
              "    </tr>\n",
              "    <tr>\n",
              "      <th>fit_time</th>\n",
              "      <td>1.966924</td>\n",
              "      <td>27.460814</td>\n",
              "      <td>2.510822</td>\n",
              "    </tr>\n",
              "    <tr>\n",
              "      <th>test_time</th>\n",
              "      <td>0.207651</td>\n",
              "      <td>4.962512</td>\n",
              "      <td>0.218075</td>\n",
              "    </tr>\n",
              "  </tbody>\n",
              "</table>\n",
              "</div>\n",
              "    <div class=\"colab-df-buttons\">\n",
              "\n",
              "  <div class=\"colab-df-container\">\n",
              "    <button class=\"colab-df-convert\" onclick=\"convertToInteractive('df-47ae7098-01a5-4e89-b831-aa394a315c2e')\"\n",
              "            title=\"Convert this dataframe to an interactive table.\"\n",
              "            style=\"display:none;\">\n",
              "\n",
              "  <svg xmlns=\"http://www.w3.org/2000/svg\" height=\"24px\" viewBox=\"0 -960 960 960\">\n",
              "    <path d=\"M120-120v-720h720v720H120Zm60-500h600v-160H180v160Zm220 220h160v-160H400v160Zm0 220h160v-160H400v160ZM180-400h160v-160H180v160Zm440 0h160v-160H620v160ZM180-180h160v-160H180v160Zm440 0h160v-160H620v160Z\"/>\n",
              "  </svg>\n",
              "    </button>\n",
              "\n",
              "  <style>\n",
              "    .colab-df-container {\n",
              "      display:flex;\n",
              "      gap: 12px;\n",
              "    }\n",
              "\n",
              "    .colab-df-convert {\n",
              "      background-color: #E8F0FE;\n",
              "      border: none;\n",
              "      border-radius: 50%;\n",
              "      cursor: pointer;\n",
              "      display: none;\n",
              "      fill: #1967D2;\n",
              "      height: 32px;\n",
              "      padding: 0 0 0 0;\n",
              "      width: 32px;\n",
              "    }\n",
              "\n",
              "    .colab-df-convert:hover {\n",
              "      background-color: #E2EBFA;\n",
              "      box-shadow: 0px 1px 2px rgba(60, 64, 67, 0.3), 0px 1px 3px 1px rgba(60, 64, 67, 0.15);\n",
              "      fill: #174EA6;\n",
              "    }\n",
              "\n",
              "    .colab-df-buttons div {\n",
              "      margin-bottom: 4px;\n",
              "    }\n",
              "\n",
              "    [theme=dark] .colab-df-convert {\n",
              "      background-color: #3B4455;\n",
              "      fill: #D2E3FC;\n",
              "    }\n",
              "\n",
              "    [theme=dark] .colab-df-convert:hover {\n",
              "      background-color: #434B5C;\n",
              "      box-shadow: 0px 1px 3px 1px rgba(0, 0, 0, 0.15);\n",
              "      filter: drop-shadow(0px 1px 2px rgba(0, 0, 0, 0.3));\n",
              "      fill: #FFFFFF;\n",
              "    }\n",
              "  </style>\n",
              "\n",
              "    <script>\n",
              "      const buttonEl =\n",
              "        document.querySelector('#df-47ae7098-01a5-4e89-b831-aa394a315c2e button.colab-df-convert');\n",
              "      buttonEl.style.display =\n",
              "        google.colab.kernel.accessAllowed ? 'block' : 'none';\n",
              "\n",
              "      async function convertToInteractive(key) {\n",
              "        const element = document.querySelector('#df-47ae7098-01a5-4e89-b831-aa394a315c2e');\n",
              "        const dataTable =\n",
              "          await google.colab.kernel.invokeFunction('convertToInteractive',\n",
              "                                                    [key], {});\n",
              "        if (!dataTable) return;\n",
              "\n",
              "        const docLinkHtml = 'Like what you see? Visit the ' +\n",
              "          '<a target=\"_blank\" href=https://colab.research.google.com/notebooks/data_table.ipynb>data table notebook</a>'\n",
              "          + ' to learn more about interactive tables.';\n",
              "        element.innerHTML = '';\n",
              "        dataTable['output_type'] = 'display_data';\n",
              "        await google.colab.output.renderOutput(dataTable, element);\n",
              "        const docLink = document.createElement('div');\n",
              "        docLink.innerHTML = docLinkHtml;\n",
              "        element.appendChild(docLink);\n",
              "      }\n",
              "    </script>\n",
              "  </div>\n",
              "\n",
              "\n",
              "<div id=\"df-71157edf-a67c-4ad8-aee4-391f51a5ff5c\">\n",
              "  <button class=\"colab-df-quickchart\" onclick=\"quickchart('df-71157edf-a67c-4ad8-aee4-391f51a5ff5c')\"\n",
              "            title=\"Suggest charts\"\n",
              "            style=\"display:none;\">\n",
              "\n",
              "<svg xmlns=\"http://www.w3.org/2000/svg\" height=\"24px\"viewBox=\"0 0 24 24\"\n",
              "     width=\"24px\">\n",
              "    <g>\n",
              "        <path d=\"M19 3H5c-1.1 0-2 .9-2 2v14c0 1.1.9 2 2 2h14c1.1 0 2-.9 2-2V5c0-1.1-.9-2-2-2zM9 17H7v-7h2v7zm4 0h-2V7h2v10zm4 0h-2v-4h2v4z\"/>\n",
              "    </g>\n",
              "</svg>\n",
              "  </button>\n",
              "\n",
              "<style>\n",
              "  .colab-df-quickchart {\n",
              "      --bg-color: #E8F0FE;\n",
              "      --fill-color: #1967D2;\n",
              "      --hover-bg-color: #E2EBFA;\n",
              "      --hover-fill-color: #174EA6;\n",
              "      --disabled-fill-color: #AAA;\n",
              "      --disabled-bg-color: #DDD;\n",
              "  }\n",
              "\n",
              "  [theme=dark] .colab-df-quickchart {\n",
              "      --bg-color: #3B4455;\n",
              "      --fill-color: #D2E3FC;\n",
              "      --hover-bg-color: #434B5C;\n",
              "      --hover-fill-color: #FFFFFF;\n",
              "      --disabled-bg-color: #3B4455;\n",
              "      --disabled-fill-color: #666;\n",
              "  }\n",
              "\n",
              "  .colab-df-quickchart {\n",
              "    background-color: var(--bg-color);\n",
              "    border: none;\n",
              "    border-radius: 50%;\n",
              "    cursor: pointer;\n",
              "    display: none;\n",
              "    fill: var(--fill-color);\n",
              "    height: 32px;\n",
              "    padding: 0;\n",
              "    width: 32px;\n",
              "  }\n",
              "\n",
              "  .colab-df-quickchart:hover {\n",
              "    background-color: var(--hover-bg-color);\n",
              "    box-shadow: 0 1px 2px rgba(60, 64, 67, 0.3), 0 1px 3px 1px rgba(60, 64, 67, 0.15);\n",
              "    fill: var(--button-hover-fill-color);\n",
              "  }\n",
              "\n",
              "  .colab-df-quickchart-complete:disabled,\n",
              "  .colab-df-quickchart-complete:disabled:hover {\n",
              "    background-color: var(--disabled-bg-color);\n",
              "    fill: var(--disabled-fill-color);\n",
              "    box-shadow: none;\n",
              "  }\n",
              "\n",
              "  .colab-df-spinner {\n",
              "    border: 2px solid var(--fill-color);\n",
              "    border-color: transparent;\n",
              "    border-bottom-color: var(--fill-color);\n",
              "    animation:\n",
              "      spin 1s steps(1) infinite;\n",
              "  }\n",
              "\n",
              "  @keyframes spin {\n",
              "    0% {\n",
              "      border-color: transparent;\n",
              "      border-bottom-color: var(--fill-color);\n",
              "      border-left-color: var(--fill-color);\n",
              "    }\n",
              "    20% {\n",
              "      border-color: transparent;\n",
              "      border-left-color: var(--fill-color);\n",
              "      border-top-color: var(--fill-color);\n",
              "    }\n",
              "    30% {\n",
              "      border-color: transparent;\n",
              "      border-left-color: var(--fill-color);\n",
              "      border-top-color: var(--fill-color);\n",
              "      border-right-color: var(--fill-color);\n",
              "    }\n",
              "    40% {\n",
              "      border-color: transparent;\n",
              "      border-right-color: var(--fill-color);\n",
              "      border-top-color: var(--fill-color);\n",
              "    }\n",
              "    60% {\n",
              "      border-color: transparent;\n",
              "      border-right-color: var(--fill-color);\n",
              "    }\n",
              "    80% {\n",
              "      border-color: transparent;\n",
              "      border-right-color: var(--fill-color);\n",
              "      border-bottom-color: var(--fill-color);\n",
              "    }\n",
              "    90% {\n",
              "      border-color: transparent;\n",
              "      border-bottom-color: var(--fill-color);\n",
              "    }\n",
              "  }\n",
              "</style>\n",
              "\n",
              "  <script>\n",
              "    async function quickchart(key) {\n",
              "      const quickchartButtonEl =\n",
              "        document.querySelector('#' + key + ' button');\n",
              "      quickchartButtonEl.disabled = true;  // To prevent multiple clicks.\n",
              "      quickchartButtonEl.classList.add('colab-df-spinner');\n",
              "      try {\n",
              "        const charts = await google.colab.kernel.invokeFunction(\n",
              "            'suggestCharts', [key], {});\n",
              "      } catch (error) {\n",
              "        console.error('Error during call to suggestCharts:', error);\n",
              "      }\n",
              "      quickchartButtonEl.classList.remove('colab-df-spinner');\n",
              "      quickchartButtonEl.classList.add('colab-df-quickchart-complete');\n",
              "    }\n",
              "    (() => {\n",
              "      let quickchartButtonEl =\n",
              "        document.querySelector('#df-71157edf-a67c-4ad8-aee4-391f51a5ff5c button');\n",
              "      quickchartButtonEl.style.display =\n",
              "        google.colab.kernel.accessAllowed ? 'block' : 'none';\n",
              "    })();\n",
              "  </script>\n",
              "</div>\n",
              "    </div>\n",
              "  </div>\n"
            ],
            "application/vnd.google.colaboratory.intrinsic+json": {
              "type": "dataframe",
              "variable_name": "algo_result",
              "summary": "{\n  \"name\": \"algo_result\",\n  \"rows\": 4,\n  \"fields\": [\n    {\n      \"column\": \"SVD\",\n      \"properties\": {\n        \"dtype\": \"number\",\n        \"std\": 0.737151117981713,\n        \"min\": 0.2076512336730957,\n        \"max\": 1.966923999786377,\n        \"num_unique_values\": 4,\n        \"samples\": [\n          0.7371243616267664,\n          0.2076512336730957,\n          0.9356932509666303\n        ],\n        \"semantic_type\": \"\",\n        \"description\": \"\"\n      }\n    },\n    {\n      \"column\": \"SVDpp\",\n      \"properties\": {\n        \"dtype\": \"number\",\n        \"std\": 12.779957063906336,\n        \"min\": 0.7216129799141651,\n        \"max\": 27.460814476013184,\n        \"num_unique_values\": 4,\n        \"samples\": [\n          0.7216129799141651,\n          4.9625115394592285,\n          0.9202009503871297\n        ],\n        \"semantic_type\": \"\",\n        \"description\": \"\"\n      }\n    },\n    {\n      \"column\": \"NMF\",\n      \"properties\": {\n        \"dtype\": \"number\",\n        \"std\": 0.9840378696345162,\n        \"min\": 0.21807489395141602,\n        \"max\": 2.5108222007751464,\n        \"num_unique_values\": 4,\n        \"samples\": [\n          0.7562296446632548,\n          0.21807489395141602,\n          0.9616211843162658\n        ],\n        \"semantic_type\": \"\",\n        \"description\": \"\"\n      }\n    }\n  ]\n}"
            }
          },
          "metadata": {},
          "execution_count": 46
        }
      ]
    },
    {
      "cell_type": "markdown",
      "source": [
        "## Результат відобразимо на графіку для подальшого аналізу"
      ],
      "metadata": {
        "id": "QYjYDqEvDJFN"
      }
    },
    {
      "cell_type": "code",
      "source": [
        "import matplotlib.pyplot as plt\n",
        "import numpy as np\n",
        "\n",
        "# Налаштування розміру графіку\n",
        "plt.figure(figsize=(10, 8))\n",
        "\n",
        "# Підготовка даних\n",
        "x = np.arange(len(algo_result.columns))  # Створюємо масив даниих для осі X\n",
        "\n",
        "# Побудова стовпчикових діаграм  для RMSE і MAE\n",
        "plt.bar(x - 0.15, algo_result.iloc[0], width=0.3, label='RMSE')\n",
        "plt.bar(x + 0.15, algo_result.iloc[1], width=0.3, label='MAE')\n",
        "\n",
        "# Добавляємо текстові мітки на стовпчиках\n",
        "for index, value in enumerate(algo_result.iloc[0]):\n",
        "    plt.text(index - 0.15, value, str(round(value, 3)), ha='center', va='bottom')\n",
        "\n",
        "for index, value in enumerate(algo_result.iloc[1]):\n",
        "    plt.text(index + 0.15, value, str(round(value, 3)), ha='center', va='bottom')\n",
        "\n",
        "# Добавляємо сітку\n",
        "plt.grid(True)\n",
        "plt.legend()\n",
        "\n",
        "# Добавляємо текстові мітки на осі X\n",
        "plt.xticks(x, algo_result.columns)\n",
        "\n",
        "plt.title('Comparison of RMSE and MAE values')\n",
        "plt.xlabel('Algorithms')\n",
        "plt.ylabel('Metric Values')\n",
        "plt.show()\n"
      ],
      "metadata": {
        "colab": {
          "base_uri": "https://localhost:8080/",
          "height": 718
        },
        "id": "XHnRK-AUDTpq",
        "outputId": "c3b05fd5-e241-4490-e771-43b51e7179b1"
      },
      "execution_count": null,
      "outputs": [
        {
          "output_type": "display_data",
          "data": {
            "text/plain": [
              "<Figure size 1000x800 with 1 Axes>"
            ],
            "image/png": "[encoded data removed]"
          },
          "metadata": {}
        }
      ]
    },
    {
      "cell_type": "markdown",
      "source": [
        "# Аналіз результатів і висновки"
      ],
      "metadata": {
        "id": "9wvLMuhBt726"
      }
    },
    {
      "cell_type": "markdown",
      "source": [
        "execution_time_SVD"
      ],
      "metadata": {
        "id": "Mtys6yJfx7NO"
      }
    },
    {
      "cell_type": "code",
      "source": [
        "print(\"+\"*100)\n",
        "print(f\"Точність меделі алгоритм SVD :\\n  RMSE = {svd_rmse} \\n  MSE = {svd_mse}\")\n",
        "print(f\"Час затрачений на навчання Algorithm SVD : {execution_time_SVD:.4f} секунд\")\n",
        "print(\"+\"*100)\n",
        "\n",
        "\n",
        "print(f\"Точність меделі алгоритм SVDpp :\\n  RMSE = {svdpp_rmse} \\n  MSE = {svdpp_mse}\")\n",
        "print(f\"Час затрачений на навчання Algorithm SVDpp : {execution_time_SVDpp:.4f} секунд\")\n",
        "print(\"+\"*100)\n",
        "\n",
        "print(f\"Точність меделі алгоритм NMF :\\n  RMSE = {NMF_rmse} \\n  MSE = {NMF_mse}\")\n",
        "print(f\"Час затрачений на навчання Algorithm NMF : {execution_time_NMF:.4f} секунд\")\n",
        "print(\"+\"*100)"
      ],
      "metadata": {
        "colab": {
          "base_uri": "https://localhost:8080/"
        },
        "id": "7OwlsaZ8vKUW",
        "outputId": "0c7f1361-57f0-441c-aad7-d19620746547"
      },
      "execution_count": null,
      "outputs": [
        {
          "output_type": "stream",
          "name": "stdout",
          "text": [
            "++++++++++++++++++++++++++++++++++++++++++++++++++++++++++++++++++++++++++++++++++++++++++++++++++++\n",
            "Точність меделі алгоритм SVD :\n",
            "  RMSE = 0.9348678496013297 \n",
            "  MSE = 0.8739778962182144\n",
            "Час затрачений на навчання Algorithm SVD : 1.2941 секунд\n",
            "++++++++++++++++++++++++++++++++++++++++++++++++++++++++++++++++++++++++++++++++++++++++++++++++++++\n",
            "Точність меделі алгоритм SVDpp :\n",
            "  RMSE = 0.9167962746442739 \n",
            "  MSE = 0.8405154092016189\n",
            "Час затрачений на навчання Algorithm SVDpp : 26.4428 секунд\n",
            "++++++++++++++++++++++++++++++++++++++++++++++++++++++++++++++++++++++++++++++++++++++++++++++++++++\n",
            "Точність меделі алгоритм NMF :\n",
            "  RMSE = 0.9638615796336838 \n",
            "  MSE = 0.9290291446939402\n",
            "Час затрачений на навчання Algorithm NMF : 2.3587 секунд\n",
            "++++++++++++++++++++++++++++++++++++++++++++++++++++++++++++++++++++++++++++++++++++++++++++++++++++\n"
          ]
        }
      ]
    },
    {
      "cell_type": "markdown",
      "source": [
        "Аназізуючи результати роботи 3 запропонованих алгоритмів для аналізу запропонованого в завданні дата сету можна зробити кілька висновків:\n",
        "1. Результати розрахунку точності моделі і часу навчання, близькі до результатів розрахованих в корс- валідації для цих алгоритмів .\n",
        "\n",
        "  **Висновок:** разрахунки підтверджуються двома методами що говорить про правильність проведених розрахунків.   \n",
        "\n",
        "2. Алгоритм **SVD** має найменший час навчання.   \n",
        "   Алгоритм **NMF** має дещо більший час навчання про те кращу точність моделі.   \n",
        "   Алгоритм **SVDpp** має найгірші результати точності так і в рази більше витрачає часу на навчання моделі.   \n",
        "\n",
        "  **Висновок:** Найбільш ефективним алгоритмом для запропонованого Датасету є **NMF** (Найвища точність , відносно невеликий час навчання).  \n",
        "  Якщо критичним є саме параметер \"час навчання\" краще оберати **SVD** (Дещо менша точність , найшвидший час навчання) .  \n",
        "  Найменш ефективним , з запропонованих алгоритмів , для даного Датасету є **SVD++(SVDpp)**."
      ],
      "metadata": {
        "id": "ctIOSHbpyujG"
      }
    },
    {
      "cell_type": "markdown",
      "source": [
        "Як можна побачити з отриманих результатів алгоритм NMF показує кращу ефективність порівняно з SVD і SVDpp з бібліотеки surprise для даного датасету movielens"
      ],
      "metadata": {
        "id": "okvtZUTMt7B9"
      }
    }
  ]
}